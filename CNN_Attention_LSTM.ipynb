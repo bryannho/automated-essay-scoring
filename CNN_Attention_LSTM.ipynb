{
  "nbformat": 4,
  "nbformat_minor": 0,
  "metadata": {
    "colab": {
      "provenance": [],
      "mount_file_id": "1rFXtRaX-QVJWltNp0oWrJ6WJzRyU740A",
      "authorship_tag": "ABX9TyPZPPvGlSFrTAcAbXbmjCgi",
      "include_colab_link": true
    },
    "kernelspec": {
      "name": "python3",
      "display_name": "Python 3"
    },
    "language_info": {
      "name": "python"
    }
  },
  "cells": [
    {
      "cell_type": "markdown",
      "metadata": {
        "id": "view-in-github",
        "colab_type": "text"
      },
      "source": [
        "<a href=\"https://colab.research.google.com/github/mjain2/csci544-group32/blob/main/CNN_Attention_LSTM.ipynb\" target=\"_parent\"><img src=\"https://colab.research.google.com/assets/colab-badge.svg\" alt=\"Open In Colab\"/></a>"
      ]
    },
    {
      "cell_type": "code",
      "execution_count": null,
      "metadata": {
        "id": "2YIzUTrjAM_N"
      },
      "outputs": [],
      "source": [
        "import os\n",
        "import sys\n",
        "import argparse\n",
        "import random\n",
        "import time\n",
        "import numpy as np \n",
        "import pandas as pd \n",
        "import os, gc, re, warnings\n",
        "warnings.filterwarnings(\"ignore\")\n",
        "from keras.callbacks import ModelCheckpoint\n",
        "from keras.preprocessing.text import Tokenizer\n",
        "# from keras.preprocessing.sequence import pad_sequences\n",
        "from tqdm.notebook import tqdm\n",
        "from sklearn.model_selection import train_test_split\n",
        "# import gc\n",
        "import torch\n",
        "import torch.nn as nn\n",
        "# import pytorch_lightning as pl\n",
        "# from pytorch_lightning.callbacks.early_stopping import EarlyStopping\n",
        "from nltk.tokenize import word_tokenize\n",
        "import pickle\n"
      ]
    },
    {
      "cell_type": "code",
      "source": [
        "# load in data/embeddings\n",
        "\n",
        "train_tok_embeddings = pd.read_pickle('/content/drive/MyDrive/CSCI544-GroupProject-32/Data/feedback-prize-english-language-learning/train_tok_emb.pkl')"
      ],
      "metadata": {
        "id": "wRhvSIzgAhGv"
      },
      "execution_count": null,
      "outputs": []
    },
    {
      "cell_type": "code",
      "source": [],
      "metadata": {
        "id": "A9rpCH4YA5wa"
      },
      "execution_count": null,
      "outputs": []
    }
  ]
}