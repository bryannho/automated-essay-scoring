{
  "nbformat": 4,
  "nbformat_minor": 0,
  "metadata": {
    "colab": {
      "provenance": [],
      "machine_shape": "hm",
      "include_colab_link": true
    },
    "kernelspec": {
      "name": "python3",
      "display_name": "Python 3"
    },
    "language_info": {
      "name": "python"
    },
    "accelerator": "GPU",
    "gpuClass": "premium"
  },
  "cells": [
    {
      "cell_type": "markdown",
      "metadata": {
        "id": "view-in-github",
        "colab_type": "text"
      },
      "source": [
        "<a href=\"https://colab.research.google.com/github/mjain2/csci544-group32/blob/main/CNN_token_Embed.ipynb\" target=\"_parent\"><img src=\"https://colab.research.google.com/assets/colab-badge.svg\" alt=\"Open In Colab\"/></a>"
      ]
    },
    {
      "cell_type": "code",
      "source": [
        "!pip install pytorch_lightning\n",
        "from os.path import join\n",
        "import numpy as np\n",
        "import torch\n",
        "from torch.utils.data import Dataset, DataLoader, TensorDataset\n",
        "import pandas as pd\n",
        "import pickle\n",
        "from torch import nn\n",
        "from torch.nn import functional as F\n",
        "from sklearn.metrics import mean_squared_error as MSE\n",
        "from sklearn.multioutput import MultiOutputRegressor\n",
        "from sklearn.linear_model import Ridge\n",
        "import pytorch_lightning as pl\n",
        "from tensorflow.keras.callbacks import EarlyStopping"
      ],
      "metadata": {
        "id": "snM9A4rSjq00"
      },
      "execution_count": null,
      "outputs": []
    },
    {
      "cell_type": "code",
      "execution_count": null,
      "metadata": {
        "id": "5ijAFzKAjbym"
      },
      "outputs": [],
      "source": [
        "def get_target_cols():\n",
        "    target_cols = ['cohesion', 'syntax', 'vocabulary', 'phraseology', 'grammar', 'conventions',]\n",
        "    return target_cols"
      ]
    },
    {
      "cell_type": "code",
      "source": [
        "from google.colab import drive\n",
        "drive.mount('/content/drive')"
      ],
      "metadata": {
        "id": "5kUH7aJFDoSc",
        "colab": {
          "base_uri": "https://localhost:8080/"
        },
        "outputId": "09aaca20-b7d8-4a68-e426-3f9b25804322"
      },
      "execution_count": null,
      "outputs": [
        {
          "output_type": "stream",
          "name": "stdout",
          "text": [
            "Drive already mounted at /content/drive; to attempt to forcibly remount, call drive.mount(\"/content/drive\", force_remount=True).\n"
          ]
        }
      ]
    },
    {
      "cell_type": "code",
      "source": [
        "X_token_embed = pickle.load(open('/content/drive/MyDrive/Colab Notebooks/NLP/Project/feedback-prize-english-language-learning/train_tok_emb.pkl','rb'))\n",
        "X_test_embed = pickle.load(open('/content/drive/MyDrive/Colab Notebooks/NLP/Project/feedback-prize-english-language-learning/test_tok_emb.pkl','rb'))\n",
        "print(X_test_embed.shape)\n",
        "X = X_token_embed.reshape(X_token_embed.shape[0], X_token_embed.shape[2], X_token_embed.shape[1])\n",
        "\n",
        "print(X.shape)\n",
        "Y = pickle.load(open('/content/drive/MyDrive/Colab Notebooks/NLP/Project/feedback-prize-english-language-learning/y_train.pkl','rb'))\n",
        "y_test = pickle.load(open('/content/drive/MyDrive/Colab Notebooks/NLP/Project/feedback-prize-english-language-learning/y_test.pkl','rb'))"
      ],
      "metadata": {
        "id": "fXROVBb8PHpG",
        "colab": {
          "base_uri": "https://localhost:8080/"
        },
        "outputId": "cc217e48-e42e-4f64-b8f7-84f8a6755fb8"
      },
      "execution_count": null,
      "outputs": [
        {
          "output_type": "stream",
          "name": "stdout",
          "text": [
            "(783, 640, 768)\n",
            "(3128, 768, 640)\n"
          ]
        }
      ]
    },
    {
      "cell_type": "code",
      "source": [
        "X_test = X_test_embed.reshape(X_test_embed.shape[0], X_test_embed.shape[2], X_test_embed.shape[1])"
      ],
      "metadata": {
        "id": "kAxUgFZIZACe"
      },
      "execution_count": null,
      "outputs": []
    },
    {
      "cell_type": "code",
      "source": [
        "# X_token_embed = pickle.load(open('/content/gdrive/MyDrive/Colab Notebooks/NLP/Project/feedback-prize-english-language-learning/train_tok_emb.pkl','rb'))\n",
        "# X_test_embed = pickle.load(open('/content/gdrive/MyDrive/Colab Notebooks/NLP/Project/feedback-prize-english-language-learning/test_tok_emb.pkl','rb'))\n",
        "# #print(X_token_embed.shape)\n",
        "# X = X_token_embed.reshape(X_token_embed.shape[0], X_token_embed.shape[2], X_token_embed.shape[1])\n",
        "# X_test = X_token_embed.reshape(X_test_embed.shape[0], X_test_embed.shape[2], X_test_embed.shape[1])\n",
        "# print(X.shape)\n",
        "# Y = pickle.load(open('/content/gdrive/MyDrive/Colab Notebooks/NLP/Project/feedback-prize-english-language-learning/y_train.pkl','rb'))\n",
        "# y_test = pickle.load(open('/content/gdrive/MyDrive/Colab Notebooks/NLP/Project/feedback-prize-english-language-learning/y_test.pkl','rb'))"
      ],
      "metadata": {
        "id": "xLhtvNJDjxJP"
      },
      "execution_count": null,
      "outputs": []
    },
    {
      "cell_type": "code",
      "source": [
        "X_train = X[:int(0.8 * len(X))]\n",
        "X_valid = X[int(0.8 * len(X)):]\n",
        "y_train = Y[:int(0.8 * len(Y))]\n",
        "y_valid = Y[int(0.8 * len(Y)):]\n",
        "print(X_train.shape, y_train.shape)\n",
        "print(X_valid.shape, y_valid.shape)"
      ],
      "metadata": {
        "colab": {
          "base_uri": "https://localhost:8080/"
        },
        "id": "mf95gk_dj5Xf",
        "outputId": "ac047f8c-4257-4a3c-87be-5ca2b9597f29"
      },
      "execution_count": null,
      "outputs": [
        {
          "output_type": "stream",
          "name": "stdout",
          "text": [
            "(2502, 768, 640) (2502, 6)\n",
            "(626, 768, 640) (626, 6)\n"
          ]
        }
      ]
    },
    {
      "cell_type": "code",
      "source": [
        "class ELLDataset(Dataset):\n",
        "    def __init__(self, X, y, transform=False, max_len=768, test=False):\n",
        "        self.X = X\n",
        "        self.y = y\n",
        "        self.transform = transform\n",
        "        self.max_len = max_len\n",
        "        self.test = test\n",
        "        \n",
        "    def __len__(self):\n",
        "        return len(self.X)\n",
        "\n",
        "    def __getitem__(self, idx):\n",
        "        features = torch.tensor(np.array(self.X[idx]))\n",
        "        \n",
        "        if self.transform == \"avg\":\n",
        "            features = torch.mean(features, 1, True)  # collapsing word2vec vector per token\n",
        "\n",
        "        # if len(features) < self.max_len:\n",
        "        #     features = F.pad(features, (0, 0, 0, self.max_len-features.shape[0]))    \n",
        "        # if len(features) > self.max_len:\n",
        "        #     features = features[:self.max_len]               \n",
        "        \n",
        "        features = features.permute(1, 0)\n",
        "        \n",
        "        if self.test == True:\n",
        "            return features.float()\n",
        "        else:\n",
        "            label = self.y.iloc[idx]\n",
        "            label = torch.tensor(label)\n",
        "            return features.float(), label.float()\n"
      ],
      "metadata": {
        "id": "_kFbnTzxnFkX"
      },
      "execution_count": null,
      "outputs": []
    },
    {
      "cell_type": "code",
      "source": [
        "# Hyperparameters\n",
        "batch_size = 64\n",
        "max_len = 768\n",
        "emb_dim = 640\n",
        "learning_rate = 0.01\n",
        "epochs = 20\n",
        "dropout_p = 0.3\n",
        "\n",
        "model_name = '/content/drive/MyDrive/Colab Notebooks/NLP/Project/feedback-prize-english-language-learning/cnn_extractor.pt'"
      ],
      "metadata": {
        "id": "ESjj3BTCkXk2"
      },
      "execution_count": null,
      "outputs": []
    },
    {
      "cell_type": "code",
      "source": [
        "train_ds = ELLDataset(X_train, y_train, max_len=max_len)\n",
        "train_dataloader = DataLoader(train_ds, batch_size=batch_size, shuffle=True)\n",
        "valid_ds = ELLDataset(X_valid, y_valid, max_len=max_len)\n",
        "valid_dataloader = DataLoader(valid_ds, batch_size=batch_size, shuffle=True)"
      ],
      "metadata": {
        "id": "Fjny8B5Wkk9F"
      },
      "execution_count": null,
      "outputs": []
    },
    {
      "cell_type": "code",
      "source": [
        "# print(y_train.iloc[1620])\n",
        "# print(y_train.shape)\n",
        "# print(type(y_train))\n",
        "for x, y in train_dataloader:\n",
        "    \n",
        "    print(x.shape)\n",
        "    print(y)\n",
        "    break"
      ],
      "metadata": {
        "id": "I0kzaiWOTqOA"
      },
      "execution_count": null,
      "outputs": []
    },
    {
      "cell_type": "code",
      "source": [
        "class CNNExtractor(pl.LightningModule):\n",
        "    def __init__(self, emb_dim):\n",
        "        super().__init__()\n",
        "        self.conv1 = nn.Conv1d(emb_dim, emb_dim//2, 5, 1)\n",
        "        self.conv2 = nn.Conv1d(emb_dim//2, emb_dim//4, 5, 1)\n",
        "        self.pool = nn.MaxPool1d(2)\n",
        "        self.dropout = nn.Dropout(dropout_p)\n",
        "        self.fc1 = nn.Linear(emb_dim//4 * 760, 60)\n",
        "        self.fc2 = nn.Linear(60, 6)\n",
        "        self.test_preds = []\n",
        "    \n",
        "    def forward(self, x):\n",
        "        x = F.relu(self.conv1(x))\n",
        "        x = self.dropout(x)\n",
        "        x = F.relu(self.conv2(x))\n",
        "        x = self.dropout(x)\n",
        "        x = torch.flatten(x, 1)\n",
        "        x = F.relu(self.fc1(x))\n",
        "        x = self.fc2(x)\n",
        "        return x\n",
        "    \n",
        "    def extract(self, x):\n",
        "        x = F.relu(self.conv1(x))\n",
        "        x = F.relu(self.conv2(x))\n",
        "        x = torch.flatten(x, 1) # flatten all dimensions except batch\n",
        "        x = F.relu(self.fc1(x))\n",
        "        return x\n",
        "\n",
        "\n",
        "    def loss_fn(self, outputs, targets):\n",
        "        colwise_mse = torch.mean(torch.square(targets - outputs), dim=0)\n",
        "        loss = torch.mean(torch.sqrt(colwise_mse), dim=0)\n",
        "        return loss\n",
        "\n",
        "    def configure_optimizers(self):\n",
        "        optimizer = torch.optim.SGD(net.parameters(), lr=learning_rate)\n",
        "        scheduler = torch.optim.lr_scheduler.CosineAnnealingLR(optimizer,T_max=20,eta_min=1e-6)\n",
        "        return [optimizer], [scheduler]"
      ],
      "metadata": {
        "id": "4sgm8vSKkuIi"
      },
      "execution_count": null,
      "outputs": []
    },
    {
      "cell_type": "code",
      "source": [
        "device = \"cuda\" if torch.cuda.is_available() else \"cpu\"\n",
        "print(f\"Using {device} device\")"
      ],
      "metadata": {
        "colab": {
          "base_uri": "https://localhost:8080/"
        },
        "id": "RJK04f8Bkz_R",
        "outputId": "30828ff3-624a-4521-818d-fb0d79ca36b4"
      },
      "execution_count": null,
      "outputs": [
        {
          "output_type": "stream",
          "name": "stdout",
          "text": [
            "Using cuda device\n"
          ]
        }
      ]
    },
    {
      "cell_type": "code",
      "source": [
        "net = CNNExtractor(emb_dim).to(device)\n",
        "print(net)\n",
        "optimizer = torch.optim.SGD(net.parameters(), lr=learning_rate)\n",
        "loss_fn = torch.nn.MSELoss()"
      ],
      "metadata": {
        "colab": {
          "base_uri": "https://localhost:8080/"
        },
        "id": "8Ip6Gkpdk6Cr",
        "outputId": "8a455d8d-d316-4f0f-b190-3d3ce22e92c6"
      },
      "execution_count": null,
      "outputs": [
        {
          "output_type": "stream",
          "name": "stdout",
          "text": [
            "CNNExtractor(\n",
            "  (conv1): Conv1d(640, 320, kernel_size=(5,), stride=(1,))\n",
            "  (conv2): Conv1d(320, 160, kernel_size=(5,), stride=(1,))\n",
            "  (pool): MaxPool1d(kernel_size=2, stride=2, padding=0, dilation=1, ceil_mode=False)\n",
            "  (dropout): Dropout(p=0.3, inplace=False)\n",
            "  (fc1): Linear(in_features=121600, out_features=60, bias=True)\n",
            "  (fc2): Linear(in_features=60, out_features=6, bias=True)\n",
            ")\n"
          ]
        }
      ]
    },
    {
      "cell_type": "code",
      "source": [
        "def train_loop(dataloader, model, loss_fn, optimizer, device):\n",
        "    size = len(dataloader.dataset)\n",
        "    for batch, (X, y) in enumerate(dataloader):\n",
        "        X = X.to(device)\n",
        "        y = y.to(device)\n",
        "        # Compute prediction and loss\n",
        "        pred = model.forward(X)\n",
        "        loss = loss_fn(pred, y)\n",
        "        # Backpropagation\n",
        "        optimizer.zero_grad()\n",
        "        loss.backward()\n",
        "        optimizer.step()\n",
        "\n",
        "        if batch % 100 == 0:\n",
        "            loss, current = loss.item(), batch * len(X)\n",
        "            print(f\"loss: {loss:>7f}  [{current:>5d}/{size:>5d}]\")\n",
        "\n",
        "\n",
        "def test_loop(dataloader, model, loss_fn, device):\n",
        "    size = len(dataloader.dataset)\n",
        "    num_batches = len(dataloader)\n",
        "    test_loss = 0\n",
        "    mses = []\n",
        "    actual = []\n",
        "    preds = []\n",
        "\n",
        "    with torch.no_grad():\n",
        "        for X, y in dataloader:\n",
        "            X = X.to(device)\n",
        "            y = y.to(device)\n",
        "            pred = model.forward(X)\n",
        "            actual.append(y.cpu().numpy())\n",
        "            preds.append(pred.cpu().numpy())\n",
        "            test_loss += loss_fn(pred, y).item()\n",
        "            mses.append(MSE(y.cpu().numpy(), pred.cpu().numpy(), multioutput=\"raw_values\"))\n",
        "    \n",
        "    test_loss /= num_batches\n",
        "    mses = np.array(mses).mean(axis=0)\n",
        "    print(f\"Test Error: \\n MSE: {mses}, Avg loss: {test_loss:>8f} \\n\")\n",
        "    print(\"mcrmse from def is :\", )\n",
        "    return (test_loss, mses)\n",
        "\n",
        "def comp_score(y_true,y_pred):\n",
        "    rmse_scores = []\n",
        "    for i in range(len(target_cols)):\n",
        "        rmse_scores.append(np.sqrt(mean_squared_error(y_true[:,i],y_pred[:,i])))\n",
        "    return np.mean(rmse_scores)"
      ],
      "metadata": {
        "id": "GOCbhnk2k9vr"
      },
      "execution_count": null,
      "outputs": []
    },
    {
      "cell_type": "code",
      "source": [
        "def save_best_model(actual, best, model, t):\n",
        "    if actual < best:\n",
        "        torch.save(model.state_dict(), \"/content/drive/MyDrive/Colab Notebooks/NLP/Project/feedback-prize-english-language-learning/\" + model_name)\n",
        "        print('model saved at epoch', t)\n",
        "        return actual\n",
        "    else:\n",
        "        return best"
      ],
      "metadata": {
        "id": "IIg83BxSk_OQ"
      },
      "execution_count": null,
      "outputs": []
    },
    {
      "cell_type": "code",
      "source": [
        "best_loss = 100000\n",
        "epoch_loss, mses_loss = [], []\n",
        "for t in range(epochs):    \n",
        "    print(f\"Epoch {t+1}\\n-------------------------------\")\n",
        "    train_loop(train_dataloader, net, loss_fn, optimizer, device)\n",
        "    actual_loss, actual_mses = test_loop(valid_dataloader, net, loss_fn, device)\n",
        "\n",
        "    epoch_loss.append(actual_loss)\n",
        "    mses_loss.append(actual_mses)\n",
        "    \n",
        "    best_loss = save_best_model(actual_loss, best_loss, net, t+1)\n",
        "print(\"Done!\")"
      ],
      "metadata": {
        "colab": {
          "base_uri": "https://localhost:8080/"
        },
        "id": "u8-ZBkTplBTz",
        "outputId": "54892a5c-99cd-4e5e-9042-e40826458181"
      },
      "execution_count": null,
      "outputs": [
        {
          "output_type": "stream",
          "name": "stdout",
          "text": [
            "Epoch 1\n",
            "-------------------------------\n",
            "loss: 9.518644  [    0/ 2502]\n",
            "Test Error: \n",
            " MSE: [8.059034  7.9597335 8.329003  8.767467  7.70586   7.601561 ], Avg loss: 8.070444 \n",
            "\n",
            "mcrmse from def is :\n",
            "model saved at epoch 1\n",
            "Epoch 2\n",
            "-------------------------------\n",
            "loss: 7.937765  [    0/ 2502]\n",
            "Test Error: \n",
            " MSE: [6.5020676 6.1108294 6.92467   6.894745  5.955697  6.2242174], Avg loss: 6.435371 \n",
            "\n",
            "mcrmse from def is :\n",
            "model saved at epoch 2\n",
            "Epoch 3\n",
            "-------------------------------\n",
            "loss: 6.961603  [    0/ 2502]\n",
            "Test Error: \n",
            " MSE: [3.6226528 3.3803558 3.8779588 3.882473  3.5034378 3.5454338], Avg loss: 3.635385 \n",
            "\n",
            "mcrmse from def is :\n",
            "model saved at epoch 3\n",
            "Epoch 4\n",
            "-------------------------------\n",
            "loss: 3.604785  [    0/ 2502]\n",
            "Test Error: \n",
            " MSE: [0.48513636 0.49037686 0.39762494 0.37813392 0.79916215 0.58951294], Avg loss: 0.523325 \n",
            "\n",
            "mcrmse from def is :\n",
            "model saved at epoch 4\n",
            "Epoch 5\n",
            "-------------------------------\n",
            "loss: 0.455741  [    0/ 2502]\n",
            "Test Error: \n",
            " MSE: [0.6399897  0.60397    0.7283614  0.5576337  0.6477938  0.81577235], Avg loss: 0.665587 \n",
            "\n",
            "mcrmse from def is :\n",
            "Epoch 6\n",
            "-------------------------------\n",
            "loss: 0.576530  [    0/ 2502]\n",
            "Test Error: \n",
            " MSE: [0.5017318  0.37191975 0.39981383 0.46910524 0.607895   0.39643872], Avg loss: 0.457817 \n",
            "\n",
            "mcrmse from def is :\n",
            "model saved at epoch 6\n",
            "Epoch 7\n",
            "-------------------------------\n",
            "loss: 0.575877  [    0/ 2502]\n",
            "Test Error: \n",
            " MSE: [0.3440023  0.34257406 0.33478186 0.297867   0.38692272 0.43126616], Avg loss: 0.356236 \n",
            "\n",
            "mcrmse from def is :\n",
            "model saved at epoch 7\n",
            "Epoch 8\n",
            "-------------------------------\n",
            "loss: 0.433318  [    0/ 2502]\n",
            "Test Error: \n",
            " MSE: [0.39399457 0.3037191  0.269657   0.37742844 0.39193544 0.39023945], Avg loss: 0.354496 \n",
            "\n",
            "mcrmse from def is :\n",
            "model saved at epoch 8\n",
            "Epoch 9\n",
            "-------------------------------\n",
            "loss: 0.377172  [    0/ 2502]\n",
            "Test Error: \n",
            " MSE: [0.5173344  0.46101516 0.36506724 0.39629734 0.48378697 0.51148474], Avg loss: 0.455831 \n",
            "\n",
            "mcrmse from def is :\n",
            "Epoch 10\n",
            "-------------------------------\n",
            "loss: 0.408840  [    0/ 2502]\n",
            "Test Error: \n",
            " MSE: [0.6641156  0.56197596 0.50861496 0.48963204 0.5975863  0.53474045], Avg loss: 0.559444 \n",
            "\n",
            "mcrmse from def is :\n",
            "Epoch 11\n",
            "-------------------------------\n",
            "loss: 0.524494  [    0/ 2502]\n",
            "Test Error: \n",
            " MSE: [0.32159212 0.29850012 0.24297974 0.31266007 0.33517694 0.30179957], Avg loss: 0.302118 \n",
            "\n",
            "mcrmse from def is :\n",
            "model saved at epoch 11\n",
            "Epoch 12\n",
            "-------------------------------\n",
            "loss: 0.326168  [    0/ 2502]\n",
            "Test Error: \n",
            " MSE: [0.7205852  0.6198623  0.7107403  0.76742506 0.57278144 0.6592046 ], Avg loss: 0.675100 \n",
            "\n",
            "mcrmse from def is :\n",
            "Epoch 13\n",
            "-------------------------------\n",
            "loss: 0.648034  [    0/ 2502]\n",
            "Test Error: \n",
            " MSE: [0.9116446 1.0261405 1.1271806 1.0846959 1.2225887 1.1686805], Avg loss: 1.090155 \n",
            "\n",
            "mcrmse from def is :\n",
            "Epoch 14\n",
            "-------------------------------\n",
            "loss: 1.065772  [    0/ 2502]\n",
            "Test Error: \n",
            " MSE: [0.28279614 0.25937456 0.20046356 0.2197052  0.29672402 0.2636548 ], Avg loss: 0.253786 \n",
            "\n",
            "mcrmse from def is :\n",
            "model saved at epoch 14\n",
            "Epoch 15\n",
            "-------------------------------\n",
            "loss: 0.215407  [    0/ 2502]\n",
            "Test Error: \n",
            " MSE: [0.38400745 0.34921485 0.3231418  0.37211657 0.41052836 0.3615504 ], Avg loss: 0.366760 \n",
            "\n",
            "mcrmse from def is :\n",
            "Epoch 16\n",
            "-------------------------------\n",
            "loss: 0.410828  [    0/ 2502]\n",
            "Test Error: \n",
            " MSE: [0.30157265 0.235805   0.25263745 0.21948095 0.31192985 0.29881042], Avg loss: 0.270039 \n",
            "\n",
            "mcrmse from def is :\n",
            "Epoch 17\n",
            "-------------------------------\n",
            "loss: 0.224770  [    0/ 2502]\n",
            "Test Error: \n",
            " MSE: [0.28212506 0.29635864 0.2008873  0.2298644  0.33260334 0.2763966 ], Avg loss: 0.269706 \n",
            "\n",
            "mcrmse from def is :\n",
            "Epoch 18\n",
            "-------------------------------\n",
            "loss: 0.290647  [    0/ 2502]\n",
            "Test Error: \n",
            " MSE: [0.26880985 0.22478788 0.21215184 0.22163348 0.28734937 0.25900435], Avg loss: 0.245623 \n",
            "\n",
            "mcrmse from def is :\n",
            "model saved at epoch 18\n",
            "Epoch 19\n",
            "-------------------------------\n",
            "loss: 0.209664  [    0/ 2502]\n",
            "Test Error: \n",
            " MSE: [0.31150386 0.28287393 0.23835059 0.31959134 0.3023548  0.27464098], Avg loss: 0.288219 \n",
            "\n",
            "mcrmse from def is :\n",
            "Epoch 20\n",
            "-------------------------------\n",
            "loss: 0.361570  [    0/ 2502]\n",
            "Test Error: \n",
            " MSE: [0.32666403 0.28265053 0.2658239  0.30124074 0.362454   0.30662152], Avg loss: 0.307576 \n",
            "\n",
            "mcrmse from def is :\n",
            "Done!\n"
          ]
        }
      ]
    },
    {
      "cell_type": "code",
      "source": [
        "test_ds = ELLDataset(X_test, y_test, max_len=max_len)\n",
        "test_dataloader = DataLoader(test_ds, batch_size=1, shuffle=False)\n",
        "net.load_state_dict(torch.load(model_name))\n",
        "loss,mcmse = test_loop(test_dataloader, net, loss_fn, device)\n",
        "print(loss)\n",
        "print(mcmse)"
      ],
      "metadata": {
        "id": "J8F3pZKz0KZ0",
        "colab": {
          "base_uri": "https://localhost:8080/"
        },
        "outputId": "a17ef2f4-8133-4ec3-c53b-a47e472cedf7"
      },
      "execution_count": null,
      "outputs": [
        {
          "output_type": "stream",
          "name": "stdout",
          "text": [
            "Test Error: \n",
            " MSE: [0.27157864 0.24219915 0.21472056 0.26234493 0.297478   0.24750508], Avg loss: 0.255971 \n",
            "\n",
            "mcrmse from def is :\n",
            "0.2559710854348057\n",
            "[0.27157864 0.24219915 0.21472056 0.26234493 0.297478   0.24750508]\n"
          ]
        }
      ]
    },
    {
      "cell_type": "code",
      "source": [],
      "metadata": {
        "id": "lbAixIK1ZEMQ"
      },
      "execution_count": null,
      "outputs": []
    }
  ]
}