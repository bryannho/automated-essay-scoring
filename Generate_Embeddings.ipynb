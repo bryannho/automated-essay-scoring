{
  "nbformat": 4,
  "nbformat_minor": 0,
  "metadata": {
    "colab": {
      "provenance": [],
      "machine_shape": "hm"
    },
    "kernelspec": {
      "name": "python3",
      "display_name": "Python 3"
    },
    "language_info": {
      "name": "python"
    },
    "accelerator": "GPU",
    "gpuClass": "premium"
  },
  "cells": [
    {
      "cell_type": "code",
      "source": [
        "!pip install pip install iterative-stratification\n",
        "!pip install transformers"
      ],
      "metadata": {
        "id": "3p_kwLM-wI43",
        "colab": {
          "base_uri": "https://localhost:8080/"
        },
        "outputId": "e71f3856-3460-499c-86a0-f9289c4b8345"
      },
      "execution_count": null,
      "outputs": [
        {
          "output_type": "stream",
          "name": "stdout",
          "text": [
            "Looking in indexes: https://pypi.org/simple, https://us-python.pkg.dev/colab-wheels/public/simple/\n",
            "Requirement already satisfied: pip in /usr/local/lib/python3.7/dist-packages (21.1.3)\n",
            "Requirement already satisfied: install in /usr/local/lib/python3.7/dist-packages (1.3.5)\n",
            "Requirement already satisfied: iterative-stratification in /usr/local/lib/python3.7/dist-packages (0.1.7)\n",
            "Requirement already satisfied: numpy in /usr/local/lib/python3.7/dist-packages (from iterative-stratification) (1.21.6)\n",
            "Requirement already satisfied: scipy in /usr/local/lib/python3.7/dist-packages (from iterative-stratification) (1.7.3)\n",
            "Requirement already satisfied: scikit-learn in /usr/local/lib/python3.7/dist-packages (from iterative-stratification) (1.0.2)\n",
            "Requirement already satisfied: joblib>=0.11 in /usr/local/lib/python3.7/dist-packages (from scikit-learn->iterative-stratification) (1.2.0)\n",
            "Requirement already satisfied: threadpoolctl>=2.0.0 in /usr/local/lib/python3.7/dist-packages (from scikit-learn->iterative-stratification) (3.1.0)\n",
            "Looking in indexes: https://pypi.org/simple, https://us-python.pkg.dev/colab-wheels/public/simple/\n",
            "Requirement already satisfied: transformers in /usr/local/lib/python3.7/dist-packages (4.24.0)\n",
            "Requirement already satisfied: numpy>=1.17 in /usr/local/lib/python3.7/dist-packages (from transformers) (1.21.6)\n",
            "Requirement already satisfied: pyyaml>=5.1 in /usr/local/lib/python3.7/dist-packages (from transformers) (6.0)\n",
            "Requirement already satisfied: filelock in /usr/local/lib/python3.7/dist-packages (from transformers) (3.8.0)\n",
            "Requirement already satisfied: packaging>=20.0 in /usr/local/lib/python3.7/dist-packages (from transformers) (21.3)\n",
            "Requirement already satisfied: tokenizers!=0.11.3,<0.14,>=0.11.1 in /usr/local/lib/python3.7/dist-packages (from transformers) (0.13.2)\n",
            "Requirement already satisfied: importlib-metadata in /usr/local/lib/python3.7/dist-packages (from transformers) (4.13.0)\n",
            "Requirement already satisfied: regex!=2019.12.17 in /usr/local/lib/python3.7/dist-packages (from transformers) (2022.6.2)\n",
            "Requirement already satisfied: requests in /usr/local/lib/python3.7/dist-packages (from transformers) (2.23.0)\n",
            "Requirement already satisfied: tqdm>=4.27 in /usr/local/lib/python3.7/dist-packages (from transformers) (4.64.1)\n",
            "Requirement already satisfied: huggingface-hub<1.0,>=0.10.0 in /usr/local/lib/python3.7/dist-packages (from transformers) (0.11.0)\n",
            "Requirement already satisfied: typing-extensions>=3.7.4.3 in /usr/local/lib/python3.7/dist-packages (from huggingface-hub<1.0,>=0.10.0->transformers) (4.1.1)\n",
            "Requirement already satisfied: pyparsing!=3.0.5,>=2.0.2 in /usr/local/lib/python3.7/dist-packages (from packaging>=20.0->transformers) (3.0.9)\n",
            "Requirement already satisfied: zipp>=0.5 in /usr/local/lib/python3.7/dist-packages (from importlib-metadata->transformers) (3.10.0)\n",
            "Requirement already satisfied: urllib3!=1.25.0,!=1.25.1,<1.26,>=1.21.1 in /usr/local/lib/python3.7/dist-packages (from requests->transformers) (1.24.3)\n",
            "Requirement already satisfied: idna<3,>=2.5 in /usr/local/lib/python3.7/dist-packages (from requests->transformers) (2.10)\n",
            "Requirement already satisfied: certifi>=2017.4.17 in /usr/local/lib/python3.7/dist-packages (from requests->transformers) (2022.9.24)\n",
            "Requirement already satisfied: chardet<4,>=3.0.2 in /usr/local/lib/python3.7/dist-packages (from requests->transformers) (3.0.4)\n"
          ]
        }
      ]
    },
    {
      "cell_type": "code",
      "source": [
        "import pandas as pd\n",
        "import pickle \n",
        "import numpy as np\n",
        "import sys\n",
        "import gc\n",
        "\n",
        "from iterstrat.ml_stratifiers import MultilabelStratifiedKFold\n",
        "\n",
        "import torch\n",
        "import torch.nn.functional as F\n",
        "\n",
        "from tensorflow.keras.callbacks import Callback, EarlyStopping, ModelCheckpoint,LearningRateScheduler,ReduceLROnPlateau\n",
        "\n",
        "from transformers import AutoModel,AutoTokenizer, AutoConfig\\\n",
        "\n",
        "from tqdm import tqdm"
      ],
      "metadata": {
        "id": "dpJ7V2DwsTxd"
      },
      "execution_count": null,
      "outputs": []
    },
    {
      "cell_type": "code",
      "execution_count": null,
      "metadata": {
        "id": "Yh7PEl6psFep"
      },
      "outputs": [],
      "source": [
        "def read_file(filename):\n",
        "  df = pd.read_csv(filename)\n",
        "\n",
        "  df[\"src\"]=\"train\"\n",
        "\n",
        "  # Split 80-20\n",
        "  dftr_train = df[:3128]\n",
        "  dftr_test = df[3128:]\n",
        "\n",
        "  return dftr_train, dftr_test\n",
        "\n",
        "def get_target_cols():\n",
        "  target_cols = ['cohesion', 'syntax', 'vocabulary', 'phraseology', 'grammar', 'conventions']\n",
        "  return target_cols\n",
        "\n",
        "def read_pickle(filename):\n",
        "  with open(filename, 'rb') as f:\n",
        "    obj = pickle.load(f)\n",
        "    return obj\n",
        "\n",
        "def dump_pickle(obj, filename):\n",
        "  with open(filename, 'wb') as f:\n",
        "    obj = pickle.dump(obj, f, protocol=4)\n",
        "    return obj\n",
        "\n",
        "def array_to_txt(array, filename):\n",
        "  np.savetxt(filename, array)\n",
        "  return"
      ]
    },
    {
      "cell_type": "code",
      "source": [
        "def make_k_folds(df, FOLDS = 5):\n",
        "  skf = MultilabelStratifiedKFold(n_splits=FOLDS, shuffle=True, random_state=42)\n",
        "  for i,(train_index, val_index) in enumerate(skf.split(df,df[target_cols])):\n",
        "      df.loc[val_index,'FOLD'] = i\n",
        "  print('Train samples per fold:')\n",
        "  print(df.FOLD.value_counts())\n",
        "  return df"
      ],
      "metadata": {
        "id": "ZwoMHzaewATk"
      },
      "execution_count": null,
      "outputs": []
    },
    {
      "cell_type": "code",
      "source": [
        "def mean_pooling(model_output, attention_mask):\n",
        "    token_embeddings = model_output.last_hidden_state.detach().cpu()\n",
        "    input_mask_expanded = attention_mask.unsqueeze(-1).expand(token_embeddings.size()).float()\n",
        "    sentence_embedding = torch.sum(token_embeddings * input_mask_expanded, 1) / torch.clamp(input_mask_expanded.sum(1), min=1e-9)\n",
        "    token_embeddings = token_embeddings.numpy()\n",
        "    \n",
        "    return sentence_embedding, token_embeddings\n",
        "\n",
        "class EmbedDataset(torch.utils.data.Dataset):\n",
        "    def __init__(self,df):\n",
        "        self.df = df.reset_index(drop=True)\n",
        "        \n",
        "    def __len__(self):\n",
        "        return len(self.df)\n",
        "    \n",
        "    def __getitem__(self,idx):\n",
        "        text = self.df.loc[idx,\"full_text\"]\n",
        "        tokens = tokenizer(\n",
        "                text,\n",
        "                None,\n",
        "                add_special_tokens=True,\n",
        "                padding='max_length',\n",
        "                truncation=True,\n",
        "                max_length=MAX_LEN,\n",
        "            return_tensors=\"pt\")\n",
        "        tokens = {k:v.squeeze(0) for k,v in tokens.items()}\n",
        "        return tokens"
      ],
      "metadata": {
        "id": "eqJy1O3ztj9p"
      },
      "execution_count": null,
      "outputs": []
    },
    {
      "cell_type": "code",
      "source": [
        "def get_sentence_token_embeddings(embed_dataloader_tr, MODEL_NM='', MAX=640, BATCH_SIZE=4, verbose=True):\n",
        "    global tokenizer, MAX_LEN\n",
        "    MAX_LEN = MAX\n",
        "\n",
        "    if torch.cuda.is_available():\n",
        "        DEVICE = torch.device(\"cuda\")\n",
        "        print(\"Using GPU.\")\n",
        "    else:\n",
        "        print(\"No GPU available, using the CPU instead.\")\n",
        "        DEVICE = torch.device(\"cpu\")\n",
        "    \n",
        "    cfg = AutoConfig.from_pretrained(MODEL_NM, output_hidden_states=True)\n",
        "    cfg.hidden_dropout_prob = 0\n",
        "    cfg.attention_probs_dropout_prob = 0\n",
        "    #cfg.save_pretrained('./tokenizer/')\n",
        "    \n",
        "    model = AutoModel.from_pretrained(MODEL_NM, config=cfg)\n",
        "    tokenizer = AutoTokenizer.from_pretrained(MODEL_NM)\n",
        "\n",
        "    model = model.to(DEVICE)\n",
        "\n",
        "    all_train_text_feats = []\n",
        "    all_train_token_embedding = []\n",
        "\n",
        "    for batch in tqdm(embed_dataloader_tr,total=len(embed_dataloader_tr)):\n",
        "\n",
        "        input_ids = batch[\"input_ids\"].to(DEVICE)\n",
        "        attention_mask = batch[\"attention_mask\"].to(DEVICE)\n",
        "\n",
        "        model_output = model(input_ids=input_ids,attention_mask=attention_mask)\n",
        "        sentence_embeddings, token_embeddings = mean_pooling(model_output, attention_mask.detach().cpu())\n",
        "        \n",
        "        # Normalize the embeddings\n",
        "        sentence_embeddings = F.normalize(sentence_embeddings, p=2, dim=1)\n",
        "        sentence_embeddings =  sentence_embeddings.squeeze(0).detach().cpu().numpy()\n",
        "        \n",
        "        # print(sentence_embeddings.shape)\n",
        "        # print(token_embeddings.shape)\n",
        "        \n",
        "        all_train_text_feats.append(torch.tensor(sentence_embeddings))\n",
        "        all_train_token_embedding.append(torch.tensor(token_embeddings))\n",
        "        \n",
        "        del sentence_embeddings\n",
        "        del token_embeddings\n",
        "\n",
        "        input_ids = batch[\"input_ids\"].to(\"cpu\")\n",
        "        attention_mask = batch[\"attention_mask\"].to(\"cpu\")\n",
        "\n",
        "        gc.collect()\n",
        "    \n",
        "    all_train_text_feats = torch.cat(all_train_text_feats,0).numpy()\n",
        "    all_train_token_embedding = torch.cat(all_train_token_embedding,0).numpy()\n",
        "\n",
        "    print(all_train_token_embedding.shape)\n",
        "    print(all_train_text_feats.shape)\n",
        "\n",
        "    if verbose:\n",
        "        print('Embeddings shape',all_train_text_feats.shape)\n",
        "\n",
        "    return all_train_text_feats, all_train_token_embedding"
      ],
      "metadata": {
        "id": "eo8MgPSXu4lG"
      },
      "execution_count": null,
      "outputs": []
    },
    {
      "cell_type": "code",
      "source": [
        "# INitialization\n",
        "\n",
        "tokenizer = None\n",
        "MAX_LEN = 640\n",
        "BATCH_SIZE = 4\n",
        "MODEL_NM = 'microsoft/deberta-base'"
      ],
      "metadata": {
        "id": "LwPgoMffzirB"
      },
      "execution_count": null,
      "outputs": []
    },
    {
      "cell_type": "code",
      "source": [
        "from google.colab import drive\n",
        "drive.mount(\"/content/gdrive\")"
      ],
      "metadata": {
        "colab": {
          "base_uri": "https://localhost:8080/"
        },
        "id": "Z16BXNdl3T9R",
        "outputId": "81d09f88-19ff-4c38-b853-2e9c53c6b462"
      },
      "execution_count": null,
      "outputs": [
        {
          "output_type": "stream",
          "name": "stdout",
          "text": [
            "Drive already mounted at /content/gdrive; to attempt to forcibly remount, call drive.mount(\"/content/gdrive\", force_remount=True).\n"
          ]
        }
      ]
    },
    {
      "cell_type": "code",
      "source": [
        "target_cols = get_target_cols()\n",
        "df_train, df_test = read_file('/content/gdrive/MyDrive/Colab Notebooks/NLP/Project/feedback-prize-english-language-learning/train.csv')\n",
        "\n",
        "df_train_folds = make_k_folds(df_train) # There's no need for test folds"
      ],
      "metadata": {
        "colab": {
          "base_uri": "https://localhost:8080/"
        },
        "id": "29YJIPOts_4M",
        "outputId": "e1e73fa5-1d7c-4718-9c6c-3a16b2b09580"
      },
      "execution_count": null,
      "outputs": [
        {
          "output_type": "stream",
          "name": "stdout",
          "text": [
            "Train samples per fold:\n",
            "4.0    626\n",
            "1.0    626\n",
            "2.0    626\n",
            "3.0    625\n",
            "0.0    625\n",
            "Name: FOLD, dtype: int64\n"
          ]
        }
      ]
    },
    {
      "cell_type": "code",
      "source": [
        "ds_train = EmbedDataset(df_train_folds)\n",
        "train_dataloader = torch.utils.data.DataLoader(ds_train, batch_size=BATCH_SIZE, shuffle=False)\n",
        "\n",
        "ds_test = EmbedDataset(df_test)\n",
        "test_dataloader = torch.utils.data.DataLoader(ds_test, batch_size=BATCH_SIZE, shuffle=False)"
      ],
      "metadata": {
        "id": "yIOVVBzYyyMp"
      },
      "execution_count": null,
      "outputs": []
    },
    {
      "cell_type": "code",
      "source": [
        "train_sent_emb, train_tok_emb = get_sentence_token_embeddings(train_dataloader, MODEL_NM)\n",
        "dump_pickle(train_tok_emb, '/content/gdrive/MyDrive/Colab Notebooks/NLP/Project/feedback-prize-english-language-learning/train_tok_emb.pkl')\n",
        "dump_pickle(train_sent_emb, '/content/gdrive/MyDrive/Colab Notebooks/NLP/Project/feedback-prize-english-language-learning/train_sent_emb.pkl')"
      ],
      "metadata": {
        "id": "_ioMv1zWzu6f"
      },
      "execution_count": null,
      "outputs": []
    },
    {
      "cell_type": "code",
      "source": [
        "test_sent_emb, test_tok_emb = get_sentence_token_embeddings(test_dataloader, MODEL_NM)\n",
        "\n",
        "dump_pickle(test_sent_emb, '/content/gdrive/MyDrive/Colab Notebooks/NLP/Project/feedback-prize-english-language-learning/test_sent_emb.pkl')\n",
        "dump_pickle(test_tok_emb, '/content/gdrive/MyDrive/Colab Notebooks/NLP/Project/feedback-prize-english-language-learning/test_tok_emb.pkl')"
      ],
      "metadata": {
        "id": "Y_vIJz78z-4l"
      },
      "execution_count": null,
      "outputs": []
    },
    {
      "cell_type": "code",
      "source": [
        "y_train = df_train[target_cols]\n",
        "y_test = df_test[target_cols]"
      ],
      "metadata": {
        "id": "Z7PrszKv826j"
      },
      "execution_count": null,
      "outputs": []
    },
    {
      "cell_type": "code",
      "source": [
        "dump_pickle(y_train, '/content/gdrive/MyDrive/Colab Notebooks/NLP/Project/feedback-prize-english-language-learning/y_train.pkl')\n",
        "dump_pickle(y_test, '/content/gdrive/MyDrive/Colab Notebooks/NLP/Project/feedback-prize-english-language-learning/y_test.pkl')"
      ],
      "metadata": {
        "id": "Zp7FfO8u8ncw"
      },
      "execution_count": null,
      "outputs": []
    },
    {
      "cell_type": "code",
      "source": [
        "dump_pickle(df_train_folds, '/content/gdrive/MyDrive/Colab Notebooks/NLP/Project/feedback-prize-english-language-learning/df_train_folds.pkl')"
      ],
      "metadata": {
        "id": "p6zxBIqz9RzZ"
      },
      "execution_count": null,
      "outputs": []
    },
    {
      "cell_type": "code",
      "source": [],
      "metadata": {
        "id": "BWCBYGRG-0_m"
      },
      "execution_count": null,
      "outputs": []
    }
  ]
}