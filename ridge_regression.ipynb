{
  "metadata": {
    "kernelspec": {
      "language": "python",
      "display_name": "Python 3",
      "name": "python3"
    },
    "language_info": {
      "name": "python",
      "version": "3.7.12",
      "mimetype": "text/x-python",
      "codemirror_mode": {
        "name": "ipython",
        "version": 3
      },
      "pygments_lexer": "ipython3",
      "nbconvert_exporter": "python",
      "file_extension": ".py"
    },
    "colab": {
      "provenance": [],
      "collapsed_sections": [
        "eb0w8P03UCse"
      ],
      "include_colab_link": true
    }
  },
  "nbformat_minor": 0,
  "nbformat": 4,
  "cells": [
    {
      "cell_type": "markdown",
      "metadata": {
        "id": "view-in-github",
        "colab_type": "text"
      },
      "source": [
        "<a href=\"https://colab.research.google.com/github/mjain2/csci544-group32/blob/main/ridge_regression.ipynb\" target=\"_parent\"><img src=\"https://colab.research.google.com/assets/colab-badge.svg\" alt=\"Open In Colab\"/></a>"
      ]
    },
    {
      "cell_type": "markdown",
      "source": [
        "##  Bayesian Linear Ridge Regression & AES\n",
        "\n",
        "The goal with this notebook is to establish a baseline with classic machine learning methodology, particularly with bayesian linear ridge regression"
      ],
      "metadata": {
        "id": "x_kdSSpGUCro"
      }
    },
    {
      "cell_type": "markdown",
      "source": [
        "# Setting up train and test data\n",
        "The first part is consistent across all baselines to make sure that we are using the same features (word2vec) for input.\n",
        "https://www.kaggle.com/molleejain/group-32-feature-extraction-preprocessing-base/edit"
      ],
      "metadata": {
        "id": "Gu5VqthPUCry"
      }
    },
    {
      "cell_type": "code",
      "source": [
        "import numpy as np \n",
        "import pandas as pd \n",
        "import os, gc, re, warnings\n",
        "warnings.filterwarnings(\"ignore\")\n",
        "\n",
        "# import gensim\n",
        "# from gensim.models import Word2Vec, KeyedVectors"
      ],
      "metadata": {
        "_uuid": "8f2839f25d086af736a60e9eeb907d3b93b6e0e5",
        "_cell_guid": "b1076dfc-b9ad-4769-8c92-a6c4dae69d19",
        "execution": {
          "iopub.status.busy": "2022-11-20T23:14:56.223987Z",
          "iopub.execute_input": "2022-11-20T23:14:56.224898Z",
          "iopub.status.idle": "2022-11-20T23:14:56.229387Z",
          "shell.execute_reply.started": "2022-11-20T23:14:56.224863Z",
          "shell.execute_reply": "2022-11-20T23:14:56.228262Z"
        },
        "trusted": true,
        "id": "OB-k9TKsUCr2"
      },
      "execution_count": null,
      "outputs": []
    },
    {
      "cell_type": "code",
      "source": [
        "train = pd.read_csv(\"/kaggle/input/feedback-prize-english-language-learning/train.csv\")\n",
        "test = pd.read_csv(\"/kaggle/input/feedback-prize-english-language-learning/test.csv\")\n",
        "# df = pd.concat([train,test],ignore_index=True)\n",
        "\n",
        "train.head()"
      ],
      "metadata": {
        "execution": {
          "iopub.status.busy": "2022-11-20T23:21:25.580441Z",
          "iopub.execute_input": "2022-11-20T23:21:25.580792Z",
          "iopub.status.idle": "2022-11-20T23:21:25.675999Z",
          "shell.execute_reply.started": "2022-11-20T23:21:25.580763Z",
          "shell.execute_reply": "2022-11-20T23:21:25.674991Z"
        },
        "trusted": true,
        "id": "xLyCTcgmUCr7",
        "outputId": "318725d9-3b4e-431b-b37c-fb0e942145fa"
      },
      "execution_count": null,
      "outputs": [
        {
          "execution_count": 56,
          "output_type": "execute_result",
          "data": {
            "text/plain": "        text_id                                          full_text  cohesion  \\\n0  0016926B079C  I think that students would benefit from learn...       3.5   \n1  0022683E9EA5  When a problem is a change you have to let it ...       2.5   \n2  00299B378633  Dear, Principal\\n\\nIf u change the school poli...       3.0   \n3  003885A45F42  The best time in life is when you become yours...       4.5   \n4  0049B1DF5CCC  Small act of kindness can impact in other peop...       2.5   \n\n   syntax  vocabulary  phraseology  grammar  conventions  \n0     3.5         3.0          3.0      4.0          3.0  \n1     2.5         3.0          2.0      2.0          2.5  \n2     3.5         3.0          3.0      3.0          2.5  \n3     4.5         4.5          4.5      4.0          5.0  \n4     3.0         3.0          3.0      2.5          2.5  ",
            "text/html": "<div>\n<style scoped>\n    .dataframe tbody tr th:only-of-type {\n        vertical-align: middle;\n    }\n\n    .dataframe tbody tr th {\n        vertical-align: top;\n    }\n\n    .dataframe thead th {\n        text-align: right;\n    }\n</style>\n<table border=\"1\" class=\"dataframe\">\n  <thead>\n    <tr style=\"text-align: right;\">\n      <th></th>\n      <th>text_id</th>\n      <th>full_text</th>\n      <th>cohesion</th>\n      <th>syntax</th>\n      <th>vocabulary</th>\n      <th>phraseology</th>\n      <th>grammar</th>\n      <th>conventions</th>\n    </tr>\n  </thead>\n  <tbody>\n    <tr>\n      <th>0</th>\n      <td>0016926B079C</td>\n      <td>I think that students would benefit from learn...</td>\n      <td>3.5</td>\n      <td>3.5</td>\n      <td>3.0</td>\n      <td>3.0</td>\n      <td>4.0</td>\n      <td>3.0</td>\n    </tr>\n    <tr>\n      <th>1</th>\n      <td>0022683E9EA5</td>\n      <td>When a problem is a change you have to let it ...</td>\n      <td>2.5</td>\n      <td>2.5</td>\n      <td>3.0</td>\n      <td>2.0</td>\n      <td>2.0</td>\n      <td>2.5</td>\n    </tr>\n    <tr>\n      <th>2</th>\n      <td>00299B378633</td>\n      <td>Dear, Principal\\n\\nIf u change the school poli...</td>\n      <td>3.0</td>\n      <td>3.5</td>\n      <td>3.0</td>\n      <td>3.0</td>\n      <td>3.0</td>\n      <td>2.5</td>\n    </tr>\n    <tr>\n      <th>3</th>\n      <td>003885A45F42</td>\n      <td>The best time in life is when you become yours...</td>\n      <td>4.5</td>\n      <td>4.5</td>\n      <td>4.5</td>\n      <td>4.5</td>\n      <td>4.0</td>\n      <td>5.0</td>\n    </tr>\n    <tr>\n      <th>4</th>\n      <td>0049B1DF5CCC</td>\n      <td>Small act of kindness can impact in other peop...</td>\n      <td>2.5</td>\n      <td>3.0</td>\n      <td>3.0</td>\n      <td>3.0</td>\n      <td>2.5</td>\n      <td>2.5</td>\n    </tr>\n  </tbody>\n</table>\n</div>"
          },
          "metadata": {}
        }
      ]
    },
    {
      "cell_type": "code",
      "source": [
        "train['full_text']=train['full_text'].str.lower()\n",
        "test['full_text']=test['full_text'].str.lower()\n",
        "train['full_text']=train['full_text'].apply(lambda x: re.sub(r'[^ A-Za-z]+',' ', x))\n",
        "train['full_text']=train['full_text'].apply(lambda x: re.sub(r' +',' ', x))\n",
        "\n",
        "test['full_text']=test['full_text'].apply(lambda x: re.sub(r'[^ A-Za-z]+',' ', x))\n",
        "test['full_text']=test['full_text'].apply(lambda x: re.sub(r' +',' ', x))"
      ],
      "metadata": {
        "execution": {
          "iopub.status.busy": "2022-11-20T23:21:27.388384Z",
          "iopub.execute_input": "2022-11-20T23:21:27.389395Z",
          "iopub.status.idle": "2022-11-20T23:21:28.097060Z",
          "shell.execute_reply.started": "2022-11-20T23:21:27.389358Z",
          "shell.execute_reply": "2022-11-20T23:21:28.096132Z"
        },
        "trusted": true,
        "id": "4T18x62RUCr-"
      },
      "execution_count": null,
      "outputs": []
    },
    {
      "cell_type": "code",
      "source": [
        "target_cols = ['cohesion', 'syntax', 'vocabulary', 'phraseology', 'grammar', 'conventions',]"
      ],
      "metadata": {
        "execution": {
          "iopub.status.busy": "2022-11-20T23:15:02.124620Z",
          "iopub.execute_input": "2022-11-20T23:15:02.124970Z",
          "iopub.status.idle": "2022-11-20T23:15:02.129879Z",
          "shell.execute_reply.started": "2022-11-20T23:15:02.124940Z",
          "shell.execute_reply": "2022-11-20T23:15:02.128826Z"
        },
        "trusted": true,
        "id": "fIac-HiuUCr_"
      },
      "execution_count": null,
      "outputs": []
    },
    {
      "cell_type": "code",
      "source": [
        "# split into train/validation (80-20)\n",
        "from sklearn.model_selection import train_test_split\n",
        "\n",
        "train, validation, train_labels, validation_labels = train_test_split(train, train[target_cols], test_size=0.20)"
      ],
      "metadata": {
        "execution": {
          "iopub.status.busy": "2022-11-20T23:21:30.156682Z",
          "iopub.execute_input": "2022-11-20T23:21:30.157585Z",
          "iopub.status.idle": "2022-11-20T23:21:30.164949Z",
          "shell.execute_reply.started": "2022-11-20T23:21:30.157548Z",
          "shell.execute_reply": "2022-11-20T23:21:30.164019Z"
        },
        "trusted": true,
        "id": "16tYLTt4UCsA"
      },
      "execution_count": null,
      "outputs": []
    },
    {
      "cell_type": "code",
      "source": [
        "# train, train_labels\n",
        "train = train.reset_index()\n",
        "validation = validation.reset_index()"
      ],
      "metadata": {
        "execution": {
          "iopub.status.busy": "2022-11-20T23:25:05.228818Z",
          "iopub.execute_input": "2022-11-20T23:25:05.229190Z",
          "iopub.status.idle": "2022-11-20T23:25:05.235165Z",
          "shell.execute_reply.started": "2022-11-20T23:25:05.229158Z",
          "shell.execute_reply": "2022-11-20T23:25:05.234009Z"
        },
        "trusted": true,
        "id": "upp3j-wwUCsD"
      },
      "execution_count": null,
      "outputs": []
    },
    {
      "cell_type": "code",
      "source": [
        "print(train.shape)\n",
        "print(validation.shape)\n",
        "print(test.shape)"
      ],
      "metadata": {
        "execution": {
          "iopub.status.busy": "2022-11-20T23:25:07.976556Z",
          "iopub.execute_input": "2022-11-20T23:25:07.977649Z",
          "iopub.status.idle": "2022-11-20T23:25:07.983382Z",
          "shell.execute_reply.started": "2022-11-20T23:25:07.977603Z",
          "shell.execute_reply": "2022-11-20T23:25:07.982363Z"
        },
        "trusted": true,
        "id": "Weh0PL35UCsH",
        "outputId": "079dcc3d-6a2b-42b1-c337-4c80690397b5"
      },
      "execution_count": null,
      "outputs": [
        {
          "name": "stdout",
          "text": "(3128, 9)\n(783, 9)\n(3, 2)\n",
          "output_type": "stream"
        }
      ]
    },
    {
      "cell_type": "code",
      "source": [
        "train.head()"
      ],
      "metadata": {
        "execution": {
          "iopub.status.busy": "2022-11-20T23:25:10.841988Z",
          "iopub.execute_input": "2022-11-20T23:25:10.842734Z",
          "iopub.status.idle": "2022-11-20T23:25:10.857805Z",
          "shell.execute_reply.started": "2022-11-20T23:25:10.842695Z",
          "shell.execute_reply": "2022-11-20T23:25:10.856743Z"
        },
        "trusted": true,
        "id": "I0swHNVoUCsJ",
        "outputId": "b95369fd-bf7c-4b50-f33e-d44f1b9ec57b"
      },
      "execution_count": null,
      "outputs": [
        {
          "execution_count": 74,
          "output_type": "execute_result",
          "data": {
            "text/plain": "   index       text_id                                          full_text  \\\n0   1518  74E468FCE398  it has been said that first impressions are al...   \n1   2109  9E49399B42B4  some people belive that students should be req...   \n2    471  23958A3106EA  the work in group will always have an excellen...   \n3   2335  AD72A536B54A  i d kinda have to agree with micky here least ...   \n4    627  2F7B0CE01B4B  people who take decisions with guidance from e...   \n\n   cohesion  syntax  vocabulary  phraseology  grammar  conventions  \n0       3.5     2.5         3.5          3.5      2.5          3.0  \n1       3.5     3.5         3.0          2.5      2.5          3.0  \n2       4.0     4.0         4.0          4.0      3.5          4.5  \n3       2.5     3.0         2.5          2.0      3.0          2.5  \n4       3.5     3.0         4.0          4.0      4.0          4.0  ",
            "text/html": "<div>\n<style scoped>\n    .dataframe tbody tr th:only-of-type {\n        vertical-align: middle;\n    }\n\n    .dataframe tbody tr th {\n        vertical-align: top;\n    }\n\n    .dataframe thead th {\n        text-align: right;\n    }\n</style>\n<table border=\"1\" class=\"dataframe\">\n  <thead>\n    <tr style=\"text-align: right;\">\n      <th></th>\n      <th>index</th>\n      <th>text_id</th>\n      <th>full_text</th>\n      <th>cohesion</th>\n      <th>syntax</th>\n      <th>vocabulary</th>\n      <th>phraseology</th>\n      <th>grammar</th>\n      <th>conventions</th>\n    </tr>\n  </thead>\n  <tbody>\n    <tr>\n      <th>0</th>\n      <td>1518</td>\n      <td>74E468FCE398</td>\n      <td>it has been said that first impressions are al...</td>\n      <td>3.5</td>\n      <td>2.5</td>\n      <td>3.5</td>\n      <td>3.5</td>\n      <td>2.5</td>\n      <td>3.0</td>\n    </tr>\n    <tr>\n      <th>1</th>\n      <td>2109</td>\n      <td>9E49399B42B4</td>\n      <td>some people belive that students should be req...</td>\n      <td>3.5</td>\n      <td>3.5</td>\n      <td>3.0</td>\n      <td>2.5</td>\n      <td>2.5</td>\n      <td>3.0</td>\n    </tr>\n    <tr>\n      <th>2</th>\n      <td>471</td>\n      <td>23958A3106EA</td>\n      <td>the work in group will always have an excellen...</td>\n      <td>4.0</td>\n      <td>4.0</td>\n      <td>4.0</td>\n      <td>4.0</td>\n      <td>3.5</td>\n      <td>4.5</td>\n    </tr>\n    <tr>\n      <th>3</th>\n      <td>2335</td>\n      <td>AD72A536B54A</td>\n      <td>i d kinda have to agree with micky here least ...</td>\n      <td>2.5</td>\n      <td>3.0</td>\n      <td>2.5</td>\n      <td>2.0</td>\n      <td>3.0</td>\n      <td>2.5</td>\n    </tr>\n    <tr>\n      <th>4</th>\n      <td>627</td>\n      <td>2F7B0CE01B4B</td>\n      <td>people who take decisions with guidance from e...</td>\n      <td>3.5</td>\n      <td>3.0</td>\n      <td>4.0</td>\n      <td>4.0</td>\n      <td>4.0</td>\n      <td>4.0</td>\n    </tr>\n  </tbody>\n</table>\n</div>"
          },
          "metadata": {}
        }
      ]
    },
    {
      "cell_type": "code",
      "source": [],
      "metadata": {
        "execution": {
          "iopub.status.busy": "2022-11-20T19:26:52.474954Z",
          "iopub.execute_input": "2022-11-20T19:26:52.475512Z",
          "iopub.status.idle": "2022-11-20T19:26:52.485099Z",
          "shell.execute_reply.started": "2022-11-20T19:26:52.475468Z",
          "shell.execute_reply": "2022-11-20T19:26:52.483636Z"
        },
        "trusted": true,
        "id": "l0GzJeSAUCsK"
      },
      "execution_count": null,
      "outputs": []
    },
    {
      "cell_type": "code",
      "source": [],
      "metadata": {
        "execution": {
          "iopub.status.busy": "2022-11-20T23:20:09.495878Z",
          "iopub.execute_input": "2022-11-20T23:20:09.496260Z",
          "iopub.status.idle": "2022-11-20T23:20:09.513281Z",
          "shell.execute_reply.started": "2022-11-20T23:20:09.496226Z",
          "shell.execute_reply": "2022-11-20T23:20:09.512128Z"
        },
        "trusted": true,
        "id": "q55Ezr0rUCsL",
        "outputId": "10d07db1-b3d2-45ed-8aeb-85d376e51d5a"
      },
      "execution_count": null,
      "outputs": [
        {
          "execution_count": 51,
          "output_type": "execute_result",
          "data": {
            "text/plain": "      cohesion  syntax  vocabulary  phraseology  grammar  conventions\n1143       3.5     3.5         3.5          4.0      4.0          3.5\n1706       3.0     2.5         2.5          2.0      2.5          3.0\n2813       3.0     2.5         3.5          3.5      2.5          4.0\n484        3.5     3.5         3.5          3.5      4.0          3.0\n2634       3.5     3.5         3.5          3.5      2.5          3.5\n...        ...     ...         ...          ...      ...          ...\n2205       3.5     3.0         3.0          3.0      3.0          3.0\n2503       2.5     3.0         3.0          2.5      2.5          3.5\n271        3.0     2.5         4.0          3.5      3.0          3.0\n523        3.0     3.0         2.5          2.5      3.0          3.0\n1003       2.5     2.0         3.0          2.5      3.0          2.0\n\n[3128 rows x 6 columns]",
            "text/html": "<div>\n<style scoped>\n    .dataframe tbody tr th:only-of-type {\n        vertical-align: middle;\n    }\n\n    .dataframe tbody tr th {\n        vertical-align: top;\n    }\n\n    .dataframe thead th {\n        text-align: right;\n    }\n</style>\n<table border=\"1\" class=\"dataframe\">\n  <thead>\n    <tr style=\"text-align: right;\">\n      <th></th>\n      <th>cohesion</th>\n      <th>syntax</th>\n      <th>vocabulary</th>\n      <th>phraseology</th>\n      <th>grammar</th>\n      <th>conventions</th>\n    </tr>\n  </thead>\n  <tbody>\n    <tr>\n      <th>1143</th>\n      <td>3.5</td>\n      <td>3.5</td>\n      <td>3.5</td>\n      <td>4.0</td>\n      <td>4.0</td>\n      <td>3.5</td>\n    </tr>\n    <tr>\n      <th>1706</th>\n      <td>3.0</td>\n      <td>2.5</td>\n      <td>2.5</td>\n      <td>2.0</td>\n      <td>2.5</td>\n      <td>3.0</td>\n    </tr>\n    <tr>\n      <th>2813</th>\n      <td>3.0</td>\n      <td>2.5</td>\n      <td>3.5</td>\n      <td>3.5</td>\n      <td>2.5</td>\n      <td>4.0</td>\n    </tr>\n    <tr>\n      <th>484</th>\n      <td>3.5</td>\n      <td>3.5</td>\n      <td>3.5</td>\n      <td>3.5</td>\n      <td>4.0</td>\n      <td>3.0</td>\n    </tr>\n    <tr>\n      <th>2634</th>\n      <td>3.5</td>\n      <td>3.5</td>\n      <td>3.5</td>\n      <td>3.5</td>\n      <td>2.5</td>\n      <td>3.5</td>\n    </tr>\n    <tr>\n      <th>...</th>\n      <td>...</td>\n      <td>...</td>\n      <td>...</td>\n      <td>...</td>\n      <td>...</td>\n      <td>...</td>\n    </tr>\n    <tr>\n      <th>2205</th>\n      <td>3.5</td>\n      <td>3.0</td>\n      <td>3.0</td>\n      <td>3.0</td>\n      <td>3.0</td>\n      <td>3.0</td>\n    </tr>\n    <tr>\n      <th>2503</th>\n      <td>2.5</td>\n      <td>3.0</td>\n      <td>3.0</td>\n      <td>2.5</td>\n      <td>2.5</td>\n      <td>3.5</td>\n    </tr>\n    <tr>\n      <th>271</th>\n      <td>3.0</td>\n      <td>2.5</td>\n      <td>4.0</td>\n      <td>3.5</td>\n      <td>3.0</td>\n      <td>3.0</td>\n    </tr>\n    <tr>\n      <th>523</th>\n      <td>3.0</td>\n      <td>3.0</td>\n      <td>2.5</td>\n      <td>2.5</td>\n      <td>3.0</td>\n      <td>3.0</td>\n    </tr>\n    <tr>\n      <th>1003</th>\n      <td>2.5</td>\n      <td>2.0</td>\n      <td>3.0</td>\n      <td>2.5</td>\n      <td>3.0</td>\n      <td>2.0</td>\n    </tr>\n  </tbody>\n</table>\n<p>3128 rows × 6 columns</p>\n</div>"
          },
          "metadata": {}
        }
      ]
    },
    {
      "cell_type": "code",
      "source": [
        "import sys\n",
        "sys.path.append('../input/iterativestratification')\n",
        "from iterstrat.ml_stratifiers import MultilabelStratifiedKFold\n",
        "FOLDS = 5 # CHANGED\n",
        "skf = MultilabelStratifiedKFold(n_splits=FOLDS, shuffle=True, random_state=42)\n",
        "for i,(train_index, val_index) in enumerate(skf.split(train,train[target_cols])):\n",
        "#     print(train.loc[val_index, 'FOLD'])\n",
        "#     print(train.loc[val_index,'index'])\n",
        "    train.loc[val_index,'FOLD'] = i\n",
        "print('Train samples per fold:')\n",
        "train.FOLD.value_counts()"
      ],
      "metadata": {
        "execution": {
          "iopub.status.busy": "2022-11-20T23:25:36.096540Z",
          "iopub.execute_input": "2022-11-20T23:25:36.096915Z",
          "iopub.status.idle": "2022-11-20T23:25:36.206737Z",
          "shell.execute_reply.started": "2022-11-20T23:25:36.096881Z",
          "shell.execute_reply": "2022-11-20T23:25:36.205653Z"
        },
        "trusted": true,
        "id": "jzdHqDl4UCsM",
        "outputId": "aa5213d5-d60f-4485-902a-58a1c86e5ac0"
      },
      "execution_count": null,
      "outputs": [
        {
          "name": "stdout",
          "text": "Train samples per fold:\n",
          "output_type": "stream"
        },
        {
          "execution_count": 77,
          "output_type": "execute_result",
          "data": {
            "text/plain": "4.0    626\n1.0    626\n2.0    626\n3.0    625\n0.0    625\nName: FOLD, dtype: int64"
          },
          "metadata": {}
        }
      ]
    },
    {
      "cell_type": "code",
      "source": [
        "train.head()"
      ],
      "metadata": {
        "execution": {
          "iopub.status.busy": "2022-11-20T23:25:40.960242Z",
          "iopub.execute_input": "2022-11-20T23:25:40.960594Z",
          "iopub.status.idle": "2022-11-20T23:25:40.976494Z",
          "shell.execute_reply.started": "2022-11-20T23:25:40.960564Z",
          "shell.execute_reply": "2022-11-20T23:25:40.975396Z"
        },
        "trusted": true,
        "id": "VU8j0ZYpUCsN",
        "outputId": "067760e5-b7c4-49f7-d0c3-51eb70d98a81"
      },
      "execution_count": null,
      "outputs": [
        {
          "execution_count": 78,
          "output_type": "execute_result",
          "data": {
            "text/plain": "   index       text_id                                          full_text  \\\n0   1518  74E468FCE398  it has been said that first impressions are al...   \n1   2109  9E49399B42B4  some people belive that students should be req...   \n2    471  23958A3106EA  the work in group will always have an excellen...   \n3   2335  AD72A536B54A  i d kinda have to agree with micky here least ...   \n4    627  2F7B0CE01B4B  people who take decisions with guidance from e...   \n\n   cohesion  syntax  vocabulary  phraseology  grammar  conventions  FOLD  \n0       3.5     2.5         3.5          3.5      2.5          3.0   3.0  \n1       3.5     3.5         3.0          2.5      2.5          3.0   4.0  \n2       4.0     4.0         4.0          4.0      3.5          4.5   1.0  \n3       2.5     3.0         2.5          2.0      3.0          2.5   3.0  \n4       3.5     3.0         4.0          4.0      4.0          4.0   1.0  ",
            "text/html": "<div>\n<style scoped>\n    .dataframe tbody tr th:only-of-type {\n        vertical-align: middle;\n    }\n\n    .dataframe tbody tr th {\n        vertical-align: top;\n    }\n\n    .dataframe thead th {\n        text-align: right;\n    }\n</style>\n<table border=\"1\" class=\"dataframe\">\n  <thead>\n    <tr style=\"text-align: right;\">\n      <th></th>\n      <th>index</th>\n      <th>text_id</th>\n      <th>full_text</th>\n      <th>cohesion</th>\n      <th>syntax</th>\n      <th>vocabulary</th>\n      <th>phraseology</th>\n      <th>grammar</th>\n      <th>conventions</th>\n      <th>FOLD</th>\n    </tr>\n  </thead>\n  <tbody>\n    <tr>\n      <th>0</th>\n      <td>1518</td>\n      <td>74E468FCE398</td>\n      <td>it has been said that first impressions are al...</td>\n      <td>3.5</td>\n      <td>2.5</td>\n      <td>3.5</td>\n      <td>3.5</td>\n      <td>2.5</td>\n      <td>3.0</td>\n      <td>3.0</td>\n    </tr>\n    <tr>\n      <th>1</th>\n      <td>2109</td>\n      <td>9E49399B42B4</td>\n      <td>some people belive that students should be req...</td>\n      <td>3.5</td>\n      <td>3.5</td>\n      <td>3.0</td>\n      <td>2.5</td>\n      <td>2.5</td>\n      <td>3.0</td>\n      <td>4.0</td>\n    </tr>\n    <tr>\n      <th>2</th>\n      <td>471</td>\n      <td>23958A3106EA</td>\n      <td>the work in group will always have an excellen...</td>\n      <td>4.0</td>\n      <td>4.0</td>\n      <td>4.0</td>\n      <td>4.0</td>\n      <td>3.5</td>\n      <td>4.5</td>\n      <td>1.0</td>\n    </tr>\n    <tr>\n      <th>3</th>\n      <td>2335</td>\n      <td>AD72A536B54A</td>\n      <td>i d kinda have to agree with micky here least ...</td>\n      <td>2.5</td>\n      <td>3.0</td>\n      <td>2.5</td>\n      <td>2.0</td>\n      <td>3.0</td>\n      <td>2.5</td>\n      <td>3.0</td>\n    </tr>\n    <tr>\n      <th>4</th>\n      <td>627</td>\n      <td>2F7B0CE01B4B</td>\n      <td>people who take decisions with guidance from e...</td>\n      <td>3.5</td>\n      <td>3.0</td>\n      <td>4.0</td>\n      <td>4.0</td>\n      <td>4.0</td>\n      <td>4.0</td>\n      <td>1.0</td>\n    </tr>\n  </tbody>\n</table>\n</div>"
          },
          "metadata": {}
        }
      ]
    },
    {
      "cell_type": "code",
      "source": [
        "# drop index columns\n",
        "train = train.drop(columns=[\"index\"])"
      ],
      "metadata": {
        "execution": {
          "iopub.status.busy": "2022-11-20T23:26:55.667767Z",
          "iopub.execute_input": "2022-11-20T23:26:55.668139Z",
          "iopub.status.idle": "2022-11-20T23:26:55.674289Z",
          "shell.execute_reply.started": "2022-11-20T23:26:55.668087Z",
          "shell.execute_reply": "2022-11-20T23:26:55.673141Z"
        },
        "trusted": true,
        "id": "g1Kn_MbgUCsO"
      },
      "execution_count": null,
      "outputs": []
    },
    {
      "cell_type": "code",
      "source": [
        "# train_data = [sentence.split() for sentence in train['full_text']]\n",
        "# model = Word2Vec(sentences=train_data, vector_size=100, window=5, min_count=1)\n",
        "# # model.save('word2vec.model')"
      ],
      "metadata": {
        "execution": {
          "iopub.status.busy": "2022-11-18T00:37:32.267956Z",
          "iopub.execute_input": "2022-11-18T00:37:32.268373Z",
          "iopub.status.idle": "2022-11-18T00:37:32.273236Z",
          "shell.execute_reply.started": "2022-11-18T00:37:32.268341Z",
          "shell.execute_reply": "2022-11-18T00:37:32.272084Z"
        },
        "trusted": true,
        "id": "xD3SUVtiUCsO"
      },
      "execution_count": null,
      "outputs": []
    },
    {
      "cell_type": "code",
      "source": [
        "# X_train = [[model.wv[token] for token in sentence.split()] for sentence in train['full_text']]\n",
        "# X_test = [[model.wv[token] for token in sentence.split() if token in model.wv] for sentence in test['full_text']]\n",
        "\n",
        "# Y_train = train[['cohesion','syntax','vocabulary','phraseology','grammar','conventions']]\n",
        "\n",
        "# print(f'X train shape: {len(X_train)}, {len(X_train[0])}, {len(X_train[0][0])}')\n",
        "# print(f'y train shape: {Y_train.shape}')\n",
        "# print(f'X test shape: {len(X_test)}, {len(X_test[0])}, {len(X_test[0][0])}')"
      ],
      "metadata": {
        "execution": {
          "iopub.status.busy": "2022-11-18T00:37:32.274815Z",
          "iopub.execute_input": "2022-11-18T00:37:32.275853Z",
          "iopub.status.idle": "2022-11-18T00:37:32.283881Z",
          "shell.execute_reply.started": "2022-11-18T00:37:32.275819Z",
          "shell.execute_reply": "2022-11-18T00:37:32.282807Z"
        },
        "trusted": true,
        "id": "XnJJvcTpUCsP"
      },
      "execution_count": null,
      "outputs": []
    },
    {
      "cell_type": "markdown",
      "source": [
        "# Generate Embeddings"
      ],
      "metadata": {
        "id": "lEdG41eUUCsQ"
      }
    },
    {
      "cell_type": "code",
      "source": [
        "from transformers import AutoModel,AutoTokenizer\n",
        "import torch\n",
        "import torch.nn.functional as F\n",
        "from tqdm import tqdm"
      ],
      "metadata": {
        "execution": {
          "iopub.status.busy": "2022-11-20T23:26:58.514280Z",
          "iopub.execute_input": "2022-11-20T23:26:58.514735Z",
          "iopub.status.idle": "2022-11-20T23:27:00.806174Z",
          "shell.execute_reply.started": "2022-11-20T23:26:58.514696Z",
          "shell.execute_reply": "2022-11-20T23:27:00.805161Z"
        },
        "trusted": true,
        "id": "XSFa2TXxUCsR"
      },
      "execution_count": null,
      "outputs": []
    },
    {
      "cell_type": "code",
      "source": [
        "def mean_pooling(model_output, attention_mask):\n",
        "    token_embeddings = model_output.last_hidden_state.detach().cpu()\n",
        "    input_mask_expanded = (\n",
        "        attention_mask.unsqueeze(-1).expand(token_embeddings.size()).float()\n",
        "    )\n",
        "    return torch.sum(token_embeddings * input_mask_expanded, 1) / torch.clamp(\n",
        "        input_mask_expanded.sum(1), min=1e-9\n",
        "    )"
      ],
      "metadata": {
        "execution": {
          "iopub.status.busy": "2022-11-20T23:27:03.324290Z",
          "iopub.execute_input": "2022-11-20T23:27:03.324811Z",
          "iopub.status.idle": "2022-11-20T23:27:03.331626Z",
          "shell.execute_reply.started": "2022-11-20T23:27:03.324776Z",
          "shell.execute_reply": "2022-11-20T23:27:03.330068Z"
        },
        "trusted": true,
        "id": "nOkM7jENUCsR"
      },
      "execution_count": null,
      "outputs": []
    },
    {
      "cell_type": "code",
      "source": [
        "BATCH_SIZE = 4\n",
        "\n",
        "class EmbedDataset(torch.utils.data.Dataset):\n",
        "    def __init__(self,df):\n",
        "        self.df = df.reset_index(drop=True)\n",
        "    def __len__(self):\n",
        "        return len(self.df)\n",
        "    def __getitem__(self,idx):\n",
        "        text = self.df.loc[idx,\"full_text\"]\n",
        "        tokens = tokenizer(\n",
        "                text,\n",
        "                None,\n",
        "                add_special_tokens=True,\n",
        "                padding='max_length',\n",
        "                truncation=True,\n",
        "                max_length=MAX_LEN,return_tensors=\"pt\")\n",
        "        tokens = {k:v.squeeze(0) for k,v in tokens.items()}\n",
        "        return tokens\n",
        "\n",
        "ds_tr = EmbedDataset(train)\n",
        "embed_dataloader_tr = torch.utils.data.DataLoader(ds_tr,\\\n",
        "                        batch_size=BATCH_SIZE,\\\n",
        "                        shuffle=False)\n",
        "ds_va = EmbedDataset(validation)\n",
        "embed_dataloader_te = torch.utils.data.DataLoader(ds_va,\\\n",
        "                        batch_size=BATCH_SIZE,\\\n",
        "                        shuffle=False)\n",
        "\n",
        "ds_te = EmbedDataset(test)\n",
        "embed_dataloader_te_old = torch.utils.data.DataLoader(ds_te,\\\n",
        "                        batch_size=BATCH_SIZE,\\\n",
        "                        shuffle=False)"
      ],
      "metadata": {
        "execution": {
          "iopub.status.busy": "2022-11-20T23:28:09.047954Z",
          "iopub.execute_input": "2022-11-20T23:28:09.048526Z",
          "iopub.status.idle": "2022-11-20T23:28:09.060050Z",
          "shell.execute_reply.started": "2022-11-20T23:28:09.048489Z",
          "shell.execute_reply": "2022-11-20T23:28:09.059168Z"
        },
        "trusted": true,
        "id": "rlX3jhl2UCsS"
      },
      "execution_count": null,
      "outputs": []
    },
    {
      "cell_type": "code",
      "source": [
        "ds_tr.df.head()"
      ],
      "metadata": {
        "execution": {
          "iopub.status.busy": "2022-11-20T23:27:07.965992Z",
          "iopub.execute_input": "2022-11-20T23:27:07.966671Z",
          "iopub.status.idle": "2022-11-20T23:27:07.982153Z",
          "shell.execute_reply.started": "2022-11-20T23:27:07.966635Z",
          "shell.execute_reply": "2022-11-20T23:27:07.981195Z"
        },
        "trusted": true,
        "id": "Q4hg-J72UCsT",
        "outputId": "44211ed0-ffba-470e-d23e-1d1954cefeec"
      },
      "execution_count": null,
      "outputs": [
        {
          "execution_count": 84,
          "output_type": "execute_result",
          "data": {
            "text/plain": "        text_id                                          full_text  cohesion  \\\n0  74E468FCE398  it has been said that first impressions are al...       3.5   \n1  9E49399B42B4  some people belive that students should be req...       3.5   \n2  23958A3106EA  the work in group will always have an excellen...       4.0   \n3  AD72A536B54A  i d kinda have to agree with micky here least ...       2.5   \n4  2F7B0CE01B4B  people who take decisions with guidance from e...       3.5   \n\n   syntax  vocabulary  phraseology  grammar  conventions  FOLD  \n0     2.5         3.5          3.5      2.5          3.0   3.0  \n1     3.5         3.0          2.5      2.5          3.0   4.0  \n2     4.0         4.0          4.0      3.5          4.5   1.0  \n3     3.0         2.5          2.0      3.0          2.5   3.0  \n4     3.0         4.0          4.0      4.0          4.0   1.0  ",
            "text/html": "<div>\n<style scoped>\n    .dataframe tbody tr th:only-of-type {\n        vertical-align: middle;\n    }\n\n    .dataframe tbody tr th {\n        vertical-align: top;\n    }\n\n    .dataframe thead th {\n        text-align: right;\n    }\n</style>\n<table border=\"1\" class=\"dataframe\">\n  <thead>\n    <tr style=\"text-align: right;\">\n      <th></th>\n      <th>text_id</th>\n      <th>full_text</th>\n      <th>cohesion</th>\n      <th>syntax</th>\n      <th>vocabulary</th>\n      <th>phraseology</th>\n      <th>grammar</th>\n      <th>conventions</th>\n      <th>FOLD</th>\n    </tr>\n  </thead>\n  <tbody>\n    <tr>\n      <th>0</th>\n      <td>74E468FCE398</td>\n      <td>it has been said that first impressions are al...</td>\n      <td>3.5</td>\n      <td>2.5</td>\n      <td>3.5</td>\n      <td>3.5</td>\n      <td>2.5</td>\n      <td>3.0</td>\n      <td>3.0</td>\n    </tr>\n    <tr>\n      <th>1</th>\n      <td>9E49399B42B4</td>\n      <td>some people belive that students should be req...</td>\n      <td>3.5</td>\n      <td>3.5</td>\n      <td>3.0</td>\n      <td>2.5</td>\n      <td>2.5</td>\n      <td>3.0</td>\n      <td>4.0</td>\n    </tr>\n    <tr>\n      <th>2</th>\n      <td>23958A3106EA</td>\n      <td>the work in group will always have an excellen...</td>\n      <td>4.0</td>\n      <td>4.0</td>\n      <td>4.0</td>\n      <td>4.0</td>\n      <td>3.5</td>\n      <td>4.5</td>\n      <td>1.0</td>\n    </tr>\n    <tr>\n      <th>3</th>\n      <td>AD72A536B54A</td>\n      <td>i d kinda have to agree with micky here least ...</td>\n      <td>2.5</td>\n      <td>3.0</td>\n      <td>2.5</td>\n      <td>2.0</td>\n      <td>3.0</td>\n      <td>2.5</td>\n      <td>3.0</td>\n    </tr>\n    <tr>\n      <th>4</th>\n      <td>2F7B0CE01B4B</td>\n      <td>people who take decisions with guidance from e...</td>\n      <td>3.5</td>\n      <td>3.0</td>\n      <td>4.0</td>\n      <td>4.0</td>\n      <td>4.0</td>\n      <td>4.0</td>\n      <td>1.0</td>\n    </tr>\n  </tbody>\n</table>\n</div>"
          },
          "metadata": {}
        }
      ]
    },
    {
      "cell_type": "code",
      "source": [
        "ds_va.df.head()"
      ],
      "metadata": {
        "execution": {
          "iopub.status.busy": "2022-11-20T23:28:11.032409Z",
          "iopub.execute_input": "2022-11-20T23:28:11.032788Z",
          "iopub.status.idle": "2022-11-20T23:28:11.049449Z",
          "shell.execute_reply.started": "2022-11-20T23:28:11.032756Z",
          "shell.execute_reply": "2022-11-20T23:28:11.048321Z"
        },
        "trusted": true,
        "id": "feLhPrA4UCsV",
        "outputId": "85af7bef-0acd-4b6d-b9a0-6cd7174c680f"
      },
      "execution_count": null,
      "outputs": [
        {
          "execution_count": 89,
          "output_type": "execute_result",
          "data": {
            "text/plain": "   index       text_id                                          full_text  \\\n0    493  25597135F582  student s that don t want to be in high school...   \n1   3452  EC7A73638669  some school districts offer programs that allo...   \n2   1690  80AD3F379BD1  i think that a act of kindnees is great for pe...   \n3   1542  7680EF5AD3CB  i believe students should not be required to t...   \n4   1980  960D7C072801  hello mr manager i would like to vist your wor...   \n\n   cohesion  syntax  vocabulary  phraseology  grammar  conventions  \n0       3.5     3.5         4.0          3.5      3.5          3.5  \n1       4.0     4.0         4.0          4.0      3.0          3.5  \n2       2.5     2.0         3.0          3.0      2.5          2.0  \n3       3.5     3.5         3.0          4.0      4.0          3.5  \n4       3.0     3.5         3.5          3.0      4.0          3.0  ",
            "text/html": "<div>\n<style scoped>\n    .dataframe tbody tr th:only-of-type {\n        vertical-align: middle;\n    }\n\n    .dataframe tbody tr th {\n        vertical-align: top;\n    }\n\n    .dataframe thead th {\n        text-align: right;\n    }\n</style>\n<table border=\"1\" class=\"dataframe\">\n  <thead>\n    <tr style=\"text-align: right;\">\n      <th></th>\n      <th>index</th>\n      <th>text_id</th>\n      <th>full_text</th>\n      <th>cohesion</th>\n      <th>syntax</th>\n      <th>vocabulary</th>\n      <th>phraseology</th>\n      <th>grammar</th>\n      <th>conventions</th>\n    </tr>\n  </thead>\n  <tbody>\n    <tr>\n      <th>0</th>\n      <td>493</td>\n      <td>25597135F582</td>\n      <td>student s that don t want to be in high school...</td>\n      <td>3.5</td>\n      <td>3.5</td>\n      <td>4.0</td>\n      <td>3.5</td>\n      <td>3.5</td>\n      <td>3.5</td>\n    </tr>\n    <tr>\n      <th>1</th>\n      <td>3452</td>\n      <td>EC7A73638669</td>\n      <td>some school districts offer programs that allo...</td>\n      <td>4.0</td>\n      <td>4.0</td>\n      <td>4.0</td>\n      <td>4.0</td>\n      <td>3.0</td>\n      <td>3.5</td>\n    </tr>\n    <tr>\n      <th>2</th>\n      <td>1690</td>\n      <td>80AD3F379BD1</td>\n      <td>i think that a act of kindnees is great for pe...</td>\n      <td>2.5</td>\n      <td>2.0</td>\n      <td>3.0</td>\n      <td>3.0</td>\n      <td>2.5</td>\n      <td>2.0</td>\n    </tr>\n    <tr>\n      <th>3</th>\n      <td>1542</td>\n      <td>7680EF5AD3CB</td>\n      <td>i believe students should not be required to t...</td>\n      <td>3.5</td>\n      <td>3.5</td>\n      <td>3.0</td>\n      <td>4.0</td>\n      <td>4.0</td>\n      <td>3.5</td>\n    </tr>\n    <tr>\n      <th>4</th>\n      <td>1980</td>\n      <td>960D7C072801</td>\n      <td>hello mr manager i would like to vist your wor...</td>\n      <td>3.0</td>\n      <td>3.5</td>\n      <td>3.5</td>\n      <td>3.0</td>\n      <td>4.0</td>\n      <td>3.0</td>\n    </tr>\n  </tbody>\n</table>\n</div>"
          },
          "metadata": {}
        }
      ]
    },
    {
      "cell_type": "code",
      "source": [
        "tokenizer = None\n",
        "MAX_LEN = 640\n",
        "\n",
        "def get_embeddings(MODEL_NM='', MAX=640, BATCH_SIZE=4, verbose=True):\n",
        "    global tokenizer, MAX_LEN\n",
        "    DEVICE=\"cuda\" # can change to cuda if torch.cuda enabled, make sure GPU enabled under acceleration\n",
        "    model = AutoModel.from_pretrained( MODEL_NM )\n",
        "    tokenizer = AutoTokenizer.from_pretrained( MODEL_NM )\n",
        "    MAX_LEN = MAX\n",
        "    \n",
        "    model = model.to(DEVICE)\n",
        "    model.eval()\n",
        "    all_train_text_feats = []\n",
        "    for batch in tqdm(embed_dataloader_tr,total=len(embed_dataloader_tr)):\n",
        "        input_ids = batch[\"input_ids\"].to(DEVICE)\n",
        "        attention_mask = batch[\"attention_mask\"].to(DEVICE)\n",
        "        with torch.no_grad():\n",
        "            model_output = model(input_ids=input_ids,attention_mask=attention_mask)\n",
        "        sentence_embeddings = mean_pooling(model_output, attention_mask.detach().cpu())\n",
        "        # Normalize the embeddings\n",
        "        sentence_embeddings = F.normalize(sentence_embeddings, p=2, dim=1)\n",
        "        sentence_embeddings =  sentence_embeddings.squeeze(0).detach().cpu().numpy()\n",
        "        all_train_text_feats.extend(sentence_embeddings)\n",
        "    all_train_text_feats = np.array(all_train_text_feats)\n",
        "    if verbose:\n",
        "        print('Train embeddings shape',all_train_text_feats.shape)\n",
        "        \n",
        "    te_text_feats = []\n",
        "    for batch in tqdm(embed_dataloader_te,total=len(embed_dataloader_te)):\n",
        "        input_ids = batch[\"input_ids\"].to(DEVICE)\n",
        "        attention_mask = batch[\"attention_mask\"].to(DEVICE)\n",
        "        with torch.no_grad():\n",
        "            model_output = model(input_ids=input_ids,attention_mask=attention_mask)\n",
        "        sentence_embeddings = mean_pooling(model_output, attention_mask.detach().cpu())\n",
        "        # Normalize the embeddings\n",
        "        sentence_embeddings = F.normalize(sentence_embeddings, p=2, dim=1)\n",
        "        sentence_embeddings =  sentence_embeddings.squeeze(0).detach().cpu().numpy()\n",
        "        te_text_feats.extend(sentence_embeddings)\n",
        "    te_text_feats = np.array(te_text_feats)\n",
        "    if verbose:\n",
        "        print('Test embeddings shape',te_text_feats.shape)\n",
        "        \n",
        "    return all_train_text_feats, te_text_feats"
      ],
      "metadata": {
        "execution": {
          "iopub.status.busy": "2022-11-20T23:28:16.302474Z",
          "iopub.execute_input": "2022-11-20T23:28:16.302954Z",
          "iopub.status.idle": "2022-11-20T23:28:16.355701Z",
          "shell.execute_reply.started": "2022-11-20T23:28:16.302851Z",
          "shell.execute_reply": "2022-11-20T23:28:16.354595Z"
        },
        "trusted": true,
        "id": "txDQqpZCUCsX"
      },
      "execution_count": null,
      "outputs": []
    },
    {
      "cell_type": "code",
      "source": [
        "MODEL_NM = '../input/huggingface-deberta-variants/deberta-large/deberta-large'\n",
        "all_train_text_feats, te_text_feats = get_embeddings(MODEL_NM)"
      ],
      "metadata": {
        "execution": {
          "iopub.status.busy": "2022-11-20T23:28:18.621930Z",
          "iopub.execute_input": "2022-11-20T23:28:18.622312Z",
          "iopub.status.idle": "2022-11-20T23:36:45.600825Z",
          "shell.execute_reply.started": "2022-11-20T23:28:18.622279Z",
          "shell.execute_reply": "2022-11-20T23:36:45.599849Z"
        },
        "trusted": true,
        "id": "-uAj2ixfUCsY",
        "outputId": "6f5a125c-84b2-4711-df05-941c32030787"
      },
      "execution_count": null,
      "outputs": [
        {
          "name": "stderr",
          "text": "Some weights of the model checkpoint at ../input/huggingface-deberta-variants/deberta-large/deberta-large were not used when initializing DebertaModel: ['lm_predictions.lm_head.LayerNorm.weight', 'lm_predictions.lm_head.dense.bias', 'config', 'lm_predictions.lm_head.bias', 'lm_predictions.lm_head.dense.weight', 'lm_predictions.lm_head.LayerNorm.bias']\n- This IS expected if you are initializing DebertaModel from the checkpoint of a model trained on another task or with another architecture (e.g. initializing a BertForSequenceClassification model from a BertForPreTraining model).\n- This IS NOT expected if you are initializing DebertaModel from the checkpoint of a model that you expect to be exactly identical (initializing a BertForSequenceClassification model from a BertForSequenceClassification model).\n100%|██████████| 782/782 [06:27<00:00,  2.02it/s]\n",
          "output_type": "stream"
        },
        {
          "name": "stdout",
          "text": "Train embeddings shape (3128, 1024)\n",
          "output_type": "stream"
        },
        {
          "name": "stderr",
          "text": "100%|██████████| 196/196 [01:37<00:00,  2.02it/s]",
          "output_type": "stream"
        },
        {
          "name": "stdout",
          "text": "Test embeddings shape (783, 1024)\n",
          "output_type": "stream"
        },
        {
          "name": "stderr",
          "text": "\n",
          "output_type": "stream"
        }
      ]
    },
    {
      "cell_type": "code",
      "source": [
        "all_train_text_feats.shape"
      ],
      "metadata": {
        "execution": {
          "iopub.status.busy": "2022-11-20T23:40:03.744919Z",
          "iopub.execute_input": "2022-11-20T23:40:03.745598Z",
          "iopub.status.idle": "2022-11-20T23:40:03.754485Z",
          "shell.execute_reply.started": "2022-11-20T23:40:03.745542Z",
          "shell.execute_reply": "2022-11-20T23:40:03.753536Z"
        },
        "trusted": true,
        "id": "ZMycCGV7UCsZ",
        "outputId": "6ec72b7c-9d0f-4596-8b81-e29752411f34"
      },
      "execution_count": null,
      "outputs": [
        {
          "execution_count": 92,
          "output_type": "execute_result",
          "data": {
            "text/plain": "(3128, 1024)"
          },
          "metadata": {}
        }
      ]
    },
    {
      "cell_type": "code",
      "source": [
        "# write dataset to pickle file for easy use across models:\n",
        "\n",
        "import pickle\n",
        "\n",
        "dataset_dict = {\"X_train\": all_train_text_feats, \"X_test\": te_text_feats}\n",
        "\n",
        "with open('dataset_dict.pickle', 'wb') as file:\n",
        "    pickle.dump(dataset_dict, file)"
      ],
      "metadata": {
        "execution": {
          "iopub.status.busy": "2022-11-20T23:40:33.798557Z",
          "iopub.execute_input": "2022-11-20T23:40:33.798943Z",
          "iopub.status.idle": "2022-11-20T23:40:33.822451Z",
          "shell.execute_reply.started": "2022-11-20T23:40:33.798910Z",
          "shell.execute_reply": "2022-11-20T23:40:33.821444Z"
        },
        "trusted": true,
        "id": "BA5Hof_hUCsa"
      },
      "execution_count": null,
      "outputs": []
    },
    {
      "cell_type": "markdown",
      "source": [
        "# Bayesian Linear Ridge Regression (BLRR) setup"
      ],
      "metadata": {
        "id": "UjQRSyPRUCsa"
      }
    },
    {
      "cell_type": "code",
      "source": [
        "from sklearn import linear_model\n",
        "from sklearn.metrics import mean_squared_error\n",
        "import torch\n",
        "from torch import nn\n",
        "from torch.nn import functional as F\n",
        "from torch.utils.data import Dataset, DataLoader\n",
        "from sklearn.metrics import mean_squared_error as MSE\n",
        "\n",
        "# clf = linear_model.BayesianRidge()"
      ],
      "metadata": {
        "execution": {
          "iopub.status.busy": "2022-11-20T23:40:36.419547Z",
          "iopub.execute_input": "2022-11-20T23:40:36.420229Z",
          "iopub.status.idle": "2022-11-20T23:40:36.477878Z",
          "shell.execute_reply.started": "2022-11-20T23:40:36.420183Z",
          "shell.execute_reply": "2022-11-20T23:40:36.477029Z"
        },
        "trusted": true,
        "id": "Ofa3EzWwUCsb"
      },
      "execution_count": null,
      "outputs": []
    },
    {
      "cell_type": "code",
      "source": [
        "preds = []\n",
        "scores = []\n",
        "def comp_score(y_true,y_pred):\n",
        "    rmse_scores = []\n",
        "    for i in range(len(target_cols)):\n",
        "        rmse_scores.append(np.sqrt(mean_squared_error(y_true[:,i],y_pred[:,i])))\n",
        "    return np.mean(rmse_scores)\n",
        "\n",
        "#for fold in tqdm(range(FOLDS),total=FOLDS):\n",
        "for fold in range(FOLDS):\n",
        "    print('#'*5) # CHANGED\n",
        "    print('### Fold',fold+1)\n",
        "    print('#'*5) # CHANGED\n",
        "    \n",
        "    train_ = train[train[\"FOLD\"]!=fold]\n",
        "    dev_ = train[train[\"FOLD\"]==fold]\n",
        "    \n",
        "    tr_text_feats = all_train_text_feats[list(train_.index),:]\n",
        "    ev_text_feats = all_train_text_feats[list(dev_.index),:]\n",
        "    \n",
        "    ev_preds = np.zeros((len(ev_text_feats),6))\n",
        "    test_preds = np.zeros((len(te_text_feats),6))\n",
        "    for i,t in enumerate(target_cols):\n",
        "        print(t,', ',end='')\n",
        "#         clf = SVR(C=1)\n",
        "        clf = linear_model.BayesianRidge()\n",
        "        clf.fit(tr_text_feats, train_[t].values)\n",
        "        ev_preds[:,i] = clf.predict(ev_text_feats)\n",
        "        test_preds[:,i] = clf.predict(te_text_feats)\n",
        "    print()\n",
        "    score = comp_score(dev_[target_cols].values,ev_preds)\n",
        "    scores.append(score)\n",
        "    print(\"Fold : {} RSME score: {}\".format(fold,score))\n",
        "    preds.append(test_preds)\n",
        "    \n",
        "print('#'*5)\n",
        "print('Overall CV RSME =',np.mean(scores))"
      ],
      "metadata": {
        "execution": {
          "iopub.status.busy": "2022-11-20T23:53:48.080051Z",
          "iopub.execute_input": "2022-11-20T23:53:48.080542Z",
          "iopub.status.idle": "2022-11-20T23:54:31.859604Z",
          "shell.execute_reply.started": "2022-11-20T23:53:48.080498Z",
          "shell.execute_reply": "2022-11-20T23:54:31.856359Z"
        },
        "trusted": true,
        "id": "uFNdb6nZUCsb",
        "outputId": "6eb17be5-b101-4e15-fcad-9203fbe2376b"
      },
      "execution_count": null,
      "outputs": [
        {
          "name": "stdout",
          "text": "#####\n### Fold 1\n#####\ncohesion , syntax , vocabulary , phraseology , grammar , conventions , \nFold : 0 RSME score: 0.47941131989652724\n#####\n### Fold 2\n#####\ncohesion , syntax , vocabulary , phraseology , grammar , conventions , \nFold : 1 RSME score: 0.47670377799562225\n#####\n### Fold 3\n#####\ncohesion , syntax , vocabulary , phraseology , grammar , conventions , \nFold : 2 RSME score: 0.4657889715993801\n#####\n### Fold 4\n#####\ncohesion , syntax , vocabulary , phraseology , grammar , conventions , \nFold : 3 RSME score: 0.48079192568095225\n#####\n### Fold 5\n#####\ncohesion , syntax , vocabulary , phraseology , grammar , conventions , \nFold : 4 RSME score: 0.46100910858703076\n#####\nOverall CV RSME = 0.4727410207519026\n",
          "output_type": "stream"
        }
      ]
    },
    {
      "cell_type": "markdown",
      "source": [
        "Overall CV RSME = 0.4823354715043138\n",
        "\n",
        "Last ran: 11/10"
      ],
      "metadata": {
        "id": "QH5BSKF2UCsc"
      }
    },
    {
      "cell_type": "code",
      "source": [
        "# predict on test data\n",
        "preds = np.zeros((len(te_text_feats),6))\n",
        "for i,t in enumerate(target_cols):\n",
        "    clf = linear_model.BayesianRidge()\n",
        "    clf.fit(all_train_text_feats, train_labels[t])\n",
        "    print(\"Predicting on validation set for \" + str(t))\n",
        "    preds[:, i] = clf.predict(te_text_feats)"
      ],
      "metadata": {
        "execution": {
          "iopub.status.busy": "2022-11-21T00:00:50.250007Z",
          "iopub.execute_input": "2022-11-21T00:00:50.250387Z",
          "iopub.status.idle": "2022-11-21T00:00:59.490565Z",
          "shell.execute_reply.started": "2022-11-21T00:00:50.250356Z",
          "shell.execute_reply": "2022-11-21T00:00:59.487322Z"
        },
        "trusted": true,
        "id": "q5OLfAE1UCsc",
        "outputId": "ed15bca7-e0b1-4261-e4a3-3d581b5813bf"
      },
      "execution_count": null,
      "outputs": [
        {
          "name": "stdout",
          "text": "Predicting on validation set for cohesion\nPredicting on validation set for syntax\nPredicting on validation set for vocabulary\nPredicting on validation set for phraseology\nPredicting on validation set for grammar\nPredicting on validation set for conventions\n",
          "output_type": "stream"
        }
      ]
    },
    {
      "cell_type": "code",
      "source": [
        "score = comp_score(validation_labels.values, preds)\n",
        "print(score)"
      ],
      "metadata": {
        "execution": {
          "iopub.status.busy": "2022-11-21T00:01:49.642796Z",
          "iopub.execute_input": "2022-11-21T00:01:49.643178Z",
          "iopub.status.idle": "2022-11-21T00:01:49.655075Z",
          "shell.execute_reply.started": "2022-11-21T00:01:49.643144Z",
          "shell.execute_reply": "2022-11-21T00:01:49.653805Z"
        },
        "trusted": true,
        "id": "Wi3RNr-nUCsd",
        "outputId": "996352ae-c5fd-4ece-f401-af2e2ed76429"
      },
      "execution_count": null,
      "outputs": [
        {
          "name": "stdout",
          "text": "0.4733969167634382\n",
          "output_type": "stream"
        }
      ]
    },
    {
      "cell_type": "markdown",
      "source": [
        "## Second test - ignore below for now, all commented out"
      ],
      "metadata": {
        "id": "eb0w8P03UCse"
      }
    },
    {
      "cell_type": "code",
      "source": [
        "# class ELLDataset(Dataset):\n",
        "#     def __init__(self, X, Y=False, transform=False, max_len=420, test=False):\n",
        "#         self.X = X\n",
        "#         self.Y = Y\n",
        "#         self.transform = transform\n",
        "#         self.max_len = max_len\n",
        "#         self.test = test\n",
        "        \n",
        "#     def __len__(self):\n",
        "#         return len(self.X)\n",
        "\n",
        "#     def __getitem__(self, idx):\n",
        "#         features = torch.tensor(np.array(self.X[idx]))\n",
        "#         if self.transform == \"avg\":\n",
        "#             features = torch.mean(features, 1, True)  # collapsing word2vec vector per token\n",
        "\n",
        "#         if len(features) < self.max_len:\n",
        "#             features = F.pad(features, (0, 0, 0, self.max_len-features.shape[0]))    \n",
        "#         if len(features) > self.max_len:\n",
        "#             features = features[:self.max_len]               \n",
        "        \n",
        "#         features = features.permute(1, 0)\n",
        "        \n",
        "#         if self.test == True:\n",
        "#             return features.float()\n",
        "#         else:\n",
        "#             label = self.Y[idx]\n",
        "#             label = torch.tensor(label)\n",
        "#             return features.float(), label.float()"
      ],
      "metadata": {
        "execution": {
          "iopub.status.busy": "2022-11-18T00:46:52.702110Z",
          "iopub.execute_input": "2022-11-18T00:46:52.702588Z",
          "iopub.status.idle": "2022-11-18T00:46:52.709443Z",
          "shell.execute_reply.started": "2022-11-18T00:46:52.702552Z",
          "shell.execute_reply": "2022-11-18T00:46:52.708538Z"
        },
        "trusted": true,
        "id": "mCUIbnuZUCse"
      },
      "execution_count": null,
      "outputs": []
    },
    {
      "cell_type": "code",
      "source": [
        "# # Hyperparameters\n",
        "# batch_size = 64\n",
        "# max_len = 420\n",
        "# emb_dim = 100\n",
        "# learning_rate = 0.01\n",
        "# epochs = 20\n",
        "# dropout_p = 0.3"
      ],
      "metadata": {
        "execution": {
          "iopub.status.busy": "2022-11-18T00:46:52.711025Z",
          "iopub.execute_input": "2022-11-18T00:46:52.711550Z",
          "iopub.status.idle": "2022-11-18T00:46:52.723736Z",
          "shell.execute_reply.started": "2022-11-18T00:46:52.711516Z",
          "shell.execute_reply": "2022-11-18T00:46:52.722272Z"
        },
        "trusted": true,
        "id": "-yBHTFCwUCse"
      },
      "execution_count": null,
      "outputs": []
    },
    {
      "cell_type": "code",
      "source": [
        "# Y_train = Y_train.values\n",
        "# train_dataset = ELLDataset(X_train, Y_train, max_len=max_len)\n",
        "# # dev_dataset = ELLDataset(X_dev, y_dev, max_len=max_len)\n",
        "# test_dataset = ELLDataset(X_test, max_len=max_len, test=True)\n"
      ],
      "metadata": {
        "execution": {
          "iopub.status.busy": "2022-11-18T00:46:52.725295Z",
          "iopub.execute_input": "2022-11-18T00:46:52.725881Z",
          "iopub.status.idle": "2022-11-18T00:46:52.733873Z",
          "shell.execute_reply.started": "2022-11-18T00:46:52.725839Z",
          "shell.execute_reply": "2022-11-18T00:46:52.732486Z"
        },
        "trusted": true,
        "id": "HjEjZyQCUCsf"
      },
      "execution_count": null,
      "outputs": []
    },
    {
      "cell_type": "code",
      "source": [
        "# print(len(train_dataset))\n",
        "# print(train_dataset[0][0].shape)  # feature's shape\n",
        "# print(train_dataset[0][1])  # label\n",
        "# print(train_dataset[0][0].dtype)\n",
        "# print(test_dataset[0].shape)\n",
        "# train_dataset[0]"
      ],
      "metadata": {
        "execution": {
          "iopub.status.busy": "2022-11-18T00:46:52.735378Z",
          "iopub.execute_input": "2022-11-18T00:46:52.735899Z",
          "iopub.status.idle": "2022-11-18T00:46:52.745196Z",
          "shell.execute_reply.started": "2022-11-18T00:46:52.735866Z",
          "shell.execute_reply": "2022-11-18T00:46:52.743751Z"
        },
        "trusted": true,
        "id": "Eek1mGe2UCsg"
      },
      "execution_count": null,
      "outputs": []
    },
    {
      "cell_type": "code",
      "source": [
        "# train_dataloader = DataLoader(train_dataset, batch_size=batch_size, shuffle=True, drop_last=True)\n",
        "# print(len(train_dataloader))\n"
      ],
      "metadata": {
        "execution": {
          "iopub.status.busy": "2022-11-18T00:46:52.746788Z",
          "iopub.execute_input": "2022-11-18T00:46:52.747362Z",
          "iopub.status.idle": "2022-11-18T00:46:52.755855Z",
          "shell.execute_reply.started": "2022-11-18T00:46:52.747327Z",
          "shell.execute_reply": "2022-11-18T00:46:52.754682Z"
        },
        "trusted": true,
        "id": "bd688pQqUCsg"
      },
      "execution_count": null,
      "outputs": []
    },
    {
      "cell_type": "code",
      "source": [
        "# class CNNExtractor(nn.Module):\n",
        "#     def __init__(self, emb_dim):\n",
        "#         super().__init__()\n",
        "#         self.conv1 = nn.Conv1d(emb_dim, emb_dim//2, 5, 1)\n",
        "#         self.conv2 = nn.Conv1d(emb_dim//2, emb_dim//4, 5, 1)\n",
        "#         self.pool = nn.MaxPool1d(2)\n",
        "#         self.dropout = nn.Dropout(dropout_p)\n",
        "#         self.fc1 = nn.Linear(emb_dim//4 * 102, 120)\n",
        "#         self.fc2 = nn.Linear(120, 6)\n",
        "\n",
        "#     def forward(self, x):\n",
        "#         x = self.pool(F.relu(self.conv1(x)))\n",
        "#         x = self.dropout(x)\n",
        "#         x = self.pool(F.relu(self.conv2(x)))\n",
        "#         x = self.dropout(x)\n",
        "#         x = torch.flatten(x, 1) # flatten all dimensions except batch\n",
        "#         x = F.relu(self.fc1(x))\n",
        "#         x = self.fc2(x)\n",
        "#         return x\n",
        "    \n",
        "#     def extract(self, x):\n",
        "#         x = self.pool(F.relu(self.conv1(x)))\n",
        "#         x = self.pool(F.relu(self.conv2(x)))\n",
        "#         x = torch.flatten(x, 1) # flatten all dimensions except batch\n",
        "#         x = F.relu(self.fc1(x))\n",
        "#         return x # [batch, 120]"
      ],
      "metadata": {
        "execution": {
          "iopub.status.busy": "2022-11-18T00:46:52.757343Z",
          "iopub.execute_input": "2022-11-18T00:46:52.757942Z",
          "iopub.status.idle": "2022-11-18T00:46:52.767378Z",
          "shell.execute_reply.started": "2022-11-18T00:46:52.757899Z",
          "shell.execute_reply": "2022-11-18T00:46:52.766017Z"
        },
        "trusted": true,
        "id": "VubAHf9DUCsg"
      },
      "execution_count": null,
      "outputs": []
    },
    {
      "cell_type": "code",
      "source": [
        "# def extractFeatures(dataset):\n",
        "# #     model = CNNExtractor(emb_dim)\n",
        "# #     model.load_state_dict(torch.load(model_name))\n",
        "# #     model.eval()\n",
        "    \n",
        "#     train_features = []\n",
        "#     with torch.no_grad():\n",
        "#         for x in dataset:\n",
        "# #             train_features.append(model.extract(x.view(1, emb_dim, max_len)).numpy())\n",
        "#             train_features.append(x[0].reshape(emb_dim, max_len).numpy())\n",
        "#     return np.array(train_features)"
      ],
      "metadata": {
        "execution": {
          "iopub.status.busy": "2022-11-18T00:46:52.768911Z",
          "iopub.execute_input": "2022-11-18T00:46:52.769405Z",
          "iopub.status.idle": "2022-11-18T00:46:52.782110Z",
          "shell.execute_reply.started": "2022-11-18T00:46:52.769371Z",
          "shell.execute_reply": "2022-11-18T00:46:52.780386Z"
        },
        "trusted": true,
        "id": "uwRppURtUCsh"
      },
      "execution_count": null,
      "outputs": []
    },
    {
      "cell_type": "code",
      "source": [
        "# train_cnn_features = extractFeatures(train_dataset)\n"
      ],
      "metadata": {
        "execution": {
          "iopub.status.busy": "2022-11-18T00:46:52.783535Z",
          "iopub.execute_input": "2022-11-18T00:46:52.783962Z",
          "iopub.status.idle": "2022-11-18T00:46:52.792821Z",
          "shell.execute_reply.started": "2022-11-18T00:46:52.783920Z",
          "shell.execute_reply": "2022-11-18T00:46:52.791386Z"
        },
        "trusted": true,
        "id": "7dLMYn9rUCsi"
      },
      "execution_count": null,
      "outputs": []
    },
    {
      "cell_type": "code",
      "source": [
        "# train2 = train_cnn_features.reshape(3911, 100*420)"
      ],
      "metadata": {
        "execution": {
          "iopub.status.busy": "2022-11-18T00:46:52.794375Z",
          "iopub.execute_input": "2022-11-18T00:46:52.794808Z",
          "iopub.status.idle": "2022-11-18T00:46:52.805389Z",
          "shell.execute_reply.started": "2022-11-18T00:46:52.794773Z",
          "shell.execute_reply": "2022-11-18T00:46:52.803702Z"
        },
        "trusted": true,
        "id": "wV4ct3ywUCsi"
      },
      "execution_count": null,
      "outputs": []
    },
    {
      "cell_type": "code",
      "source": [
        "# test_cnn_features = extractFeatures(test_dataset)"
      ],
      "metadata": {
        "execution": {
          "iopub.status.busy": "2022-11-18T00:46:52.806860Z",
          "iopub.execute_input": "2022-11-18T00:46:52.807412Z",
          "iopub.status.idle": "2022-11-18T00:46:52.815690Z",
          "shell.execute_reply.started": "2022-11-18T00:46:52.807378Z",
          "shell.execute_reply": "2022-11-18T00:46:52.814475Z"
        },
        "trusted": true,
        "id": "gcgxL4qfUCsj"
      },
      "execution_count": null,
      "outputs": []
    },
    {
      "cell_type": "code",
      "source": [
        "# train2.shape"
      ],
      "metadata": {
        "execution": {
          "iopub.status.busy": "2022-11-18T00:46:52.823597Z",
          "iopub.execute_input": "2022-11-18T00:46:52.823927Z",
          "iopub.status.idle": "2022-11-18T00:46:52.830037Z",
          "shell.execute_reply.started": "2022-11-18T00:46:52.823900Z",
          "shell.execute_reply": "2022-11-18T00:46:52.829123Z"
        },
        "trusted": true,
        "id": "80IRPvUAUCsj"
      },
      "execution_count": null,
      "outputs": []
    },
    {
      "cell_type": "code",
      "source": [
        "# first = Y_train"
      ],
      "metadata": {
        "execution": {
          "iopub.status.busy": "2022-11-18T00:46:52.832701Z",
          "iopub.execute_input": "2022-11-18T00:46:52.833679Z",
          "iopub.status.idle": "2022-11-18T00:46:52.839851Z",
          "shell.execute_reply.started": "2022-11-18T00:46:52.833590Z",
          "shell.execute_reply": "2022-11-18T00:46:52.838932Z"
        },
        "trusted": true,
        "id": "kiq_N5LDUCsk"
      },
      "execution_count": null,
      "outputs": []
    },
    {
      "cell_type": "code",
      "source": [
        "# clf.fit(train2, Y_train)"
      ],
      "metadata": {
        "execution": {
          "iopub.status.busy": "2022-11-18T00:46:52.843233Z",
          "iopub.execute_input": "2022-11-18T00:46:52.843492Z",
          "iopub.status.idle": "2022-11-18T00:46:52.849629Z",
          "shell.execute_reply.started": "2022-11-18T00:46:52.843469Z",
          "shell.execute_reply": "2022-11-18T00:46:52.848612Z"
        },
        "trusted": true,
        "id": "PyZzA8sZUCsk"
      },
      "execution_count": null,
      "outputs": []
    },
    {
      "cell_type": "code",
      "source": [],
      "metadata": {
        "id": "Im-UvU1OUCsl"
      },
      "execution_count": null,
      "outputs": []
    }
  ]
}