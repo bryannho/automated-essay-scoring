{
  "metadata": {
    "kernelspec": {
      "language": "python",
      "display_name": "Python 3",
      "name": "python3"
    },
    "language_info": {
      "name": "python",
      "version": "3.7.12",
      "mimetype": "text/x-python",
      "codemirror_mode": {
        "name": "ipython",
        "version": 3
      },
      "pygments_lexer": "ipython3",
      "nbconvert_exporter": "python",
      "file_extension": ".py"
    },
    "colab": {
      "provenance": [],
      "include_colab_link": true
    }
  },
  "nbformat_minor": 0,
  "nbformat": 4,
  "cells": [
    {
      "cell_type": "markdown",
      "metadata": {
        "id": "view-in-github",
        "colab_type": "text"
      },
      "source": [
        "<a href=\"https://colab.research.google.com/github/mjain2/csci544-group32/blob/main/svr_baseline.ipynb\" target=\"_parent\"><img src=\"https://colab.research.google.com/assets/colab-badge.svg\" alt=\"Open In Colab\"/></a>"
      ]
    },
    {
      "cell_type": "markdown",
      "source": [
        "# RAPIDS SVR - Edited by Bryan\n",
        "\n",
        "This notebook uses code and ideas from Noufal's great notebook [here][1]. In his notebook he extracts 1 NLP transformer embeddings and trains Sklearn's multioutput regressor + gradient boosting regressor on CPU with 5-Folds.\n",
        "\n",
        "In this notebook, we use [RAPIDS SVR][3] to train and predict. Since [RAPIDS cuML's SVR][3] uses GPU it is very fast. This allows us to train with more extracted embeddings quickly and more folds. In this notebook, we use 5-Folds! And in this notebook, we extract embeddings from 1 NLP transformer. [RAPIDS SVR][3] has built in feature reduction, so it learns to use the most informative features from all the NLP transformers!\n",
        "\n",
        "Note that we do not finetune the NLP transformers. The Deberta transformers in this notebook are the same pretrained transformers that we download from Hugging Face. They have not been finetuned on Kaggle's competition data. This demonstrates that pretrained models already come with intelligence."
      ],
      "metadata": {
        "id": "ibMa6p1ycWmp"
      }
    },
    {
      "cell_type": "markdown",
      "source": [
        "# Load Libraries and Data"
      ],
      "metadata": {
        "id": "VKlqcLstcWnA"
      }
    },
    {
      "cell_type": "code",
      "source": [
        "import numpy as np \n",
        "import pandas as pd \n",
        "import os, gc, re, warnings\n",
        "warnings.filterwarnings(\"ignore\")"
      ],
      "metadata": {
        "_uuid": "8f2839f25d086af736a60e9eeb907d3b93b6e0e5",
        "_cell_guid": "b1076dfc-b9ad-4769-8c92-a6c4dae69d19",
        "execution": {
          "iopub.status.busy": "2022-12-01T06:30:21.869130Z",
          "iopub.execute_input": "2022-12-01T06:30:21.869518Z",
          "iopub.status.idle": "2022-12-01T06:30:21.875010Z",
          "shell.execute_reply.started": "2022-12-01T06:30:21.869485Z",
          "shell.execute_reply": "2022-12-01T06:30:21.873810Z"
        },
        "trusted": true,
        "id": "S4wEcHOrcWnF"
      },
      "execution_count": null,
      "outputs": []
    },
    {
      "cell_type": "code",
      "source": [
        "train = pd.read_csv(\"/kaggle/input/feedback-prize-english-language-learning/train.csv\")\n",
        "#train[\"src\"]=\"train\"\n",
        "test = pd.read_csv(\"/kaggle/input/feedback-prize-english-language-learning/test.csv\")\n",
        "#test[\"src\"]=\"test\"\n",
        "print('Train shape:',train.shape,'Test shape:',test.shape,'Test columns:',test.columns)\n",
        "#df = pd.concat([train,test],ignore_index=True)\n",
        "\n",
        "train.head()"
      ],
      "metadata": {
        "execution": {
          "iopub.status.busy": "2022-12-01T06:30:21.882837Z",
          "iopub.execute_input": "2022-12-01T06:30:21.883182Z",
          "iopub.status.idle": "2022-12-01T06:30:21.984422Z",
          "shell.execute_reply.started": "2022-12-01T06:30:21.883156Z",
          "shell.execute_reply": "2022-12-01T06:30:21.983283Z"
        },
        "trusted": true,
        "id": "3Hl655qHcWnQ",
        "outputId": "d6f2ecb7-df22-45d3-9d38-05c018e10bfb"
      },
      "execution_count": null,
      "outputs": [
        {
          "name": "stdout",
          "text": "Train shape: (3911, 8) Test shape: (3, 2) Test columns: Index(['text_id', 'full_text'], dtype='object')\n",
          "output_type": "stream"
        },
        {
          "execution_count": 27,
          "output_type": "execute_result",
          "data": {
            "text/plain": "        text_id                                          full_text  cohesion  \\\n0  0016926B079C  I think that students would benefit from learn...       3.5   \n1  0022683E9EA5  When a problem is a change you have to let it ...       2.5   \n2  00299B378633  Dear, Principal\\n\\nIf u change the school poli...       3.0   \n3  003885A45F42  The best time in life is when you become yours...       4.5   \n4  0049B1DF5CCC  Small act of kindness can impact in other peop...       2.5   \n\n   syntax  vocabulary  phraseology  grammar  conventions  \n0     3.5         3.0          3.0      4.0          3.0  \n1     2.5         3.0          2.0      2.0          2.5  \n2     3.5         3.0          3.0      3.0          2.5  \n3     4.5         4.5          4.5      4.0          5.0  \n4     3.0         3.0          3.0      2.5          2.5  ",
            "text/html": "<div>\n<style scoped>\n    .dataframe tbody tr th:only-of-type {\n        vertical-align: middle;\n    }\n\n    .dataframe tbody tr th {\n        vertical-align: top;\n    }\n\n    .dataframe thead th {\n        text-align: right;\n    }\n</style>\n<table border=\"1\" class=\"dataframe\">\n  <thead>\n    <tr style=\"text-align: right;\">\n      <th></th>\n      <th>text_id</th>\n      <th>full_text</th>\n      <th>cohesion</th>\n      <th>syntax</th>\n      <th>vocabulary</th>\n      <th>phraseology</th>\n      <th>grammar</th>\n      <th>conventions</th>\n    </tr>\n  </thead>\n  <tbody>\n    <tr>\n      <th>0</th>\n      <td>0016926B079C</td>\n      <td>I think that students would benefit from learn...</td>\n      <td>3.5</td>\n      <td>3.5</td>\n      <td>3.0</td>\n      <td>3.0</td>\n      <td>4.0</td>\n      <td>3.0</td>\n    </tr>\n    <tr>\n      <th>1</th>\n      <td>0022683E9EA5</td>\n      <td>When a problem is a change you have to let it ...</td>\n      <td>2.5</td>\n      <td>2.5</td>\n      <td>3.0</td>\n      <td>2.0</td>\n      <td>2.0</td>\n      <td>2.5</td>\n    </tr>\n    <tr>\n      <th>2</th>\n      <td>00299B378633</td>\n      <td>Dear, Principal\\n\\nIf u change the school poli...</td>\n      <td>3.0</td>\n      <td>3.5</td>\n      <td>3.0</td>\n      <td>3.0</td>\n      <td>3.0</td>\n      <td>2.5</td>\n    </tr>\n    <tr>\n      <th>3</th>\n      <td>003885A45F42</td>\n      <td>The best time in life is when you become yours...</td>\n      <td>4.5</td>\n      <td>4.5</td>\n      <td>4.5</td>\n      <td>4.5</td>\n      <td>4.0</td>\n      <td>5.0</td>\n    </tr>\n    <tr>\n      <th>4</th>\n      <td>0049B1DF5CCC</td>\n      <td>Small act of kindness can impact in other peop...</td>\n      <td>2.5</td>\n      <td>3.0</td>\n      <td>3.0</td>\n      <td>3.0</td>\n      <td>2.5</td>\n      <td>2.5</td>\n    </tr>\n  </tbody>\n</table>\n</div>"
          },
          "metadata": {}
        }
      ]
    },
    {
      "cell_type": "code",
      "source": [
        "target_cols = ['cohesion', 'syntax', 'vocabulary', 'phraseology', 'grammar', 'conventions',]"
      ],
      "metadata": {
        "execution": {
          "iopub.status.busy": "2022-12-01T06:30:21.986846Z",
          "iopub.execute_input": "2022-12-01T06:30:21.987300Z",
          "iopub.status.idle": "2022-12-01T06:30:21.992847Z",
          "shell.execute_reply.started": "2022-12-01T06:30:21.987262Z",
          "shell.execute_reply": "2022-12-01T06:30:21.991667Z"
        },
        "trusted": true,
        "id": "PUZfLRBMcWnZ"
      },
      "execution_count": null,
      "outputs": []
    },
    {
      "cell_type": "code",
      "source": [
        "# split into train/validation (80-20)\n",
        "from sklearn.model_selection import train_test_split\n",
        "\n",
        "train, validation, train_labels, validation_labels = train_test_split(train, train[target_cols], test_size=0.20)"
      ],
      "metadata": {
        "execution": {
          "iopub.status.busy": "2022-12-01T06:30:21.994962Z",
          "iopub.execute_input": "2022-12-01T06:30:21.995417Z",
          "iopub.status.idle": "2022-12-01T06:30:22.005911Z",
          "shell.execute_reply.started": "2022-12-01T06:30:21.995381Z",
          "shell.execute_reply": "2022-12-01T06:30:22.004863Z"
        },
        "trusted": true,
        "id": "w9feTbVVcWnb"
      },
      "execution_count": null,
      "outputs": []
    },
    {
      "cell_type": "code",
      "source": [
        "# train, train_labels\n",
        "train = train.reset_index()\n",
        "validation = validation.reset_index()"
      ],
      "metadata": {
        "execution": {
          "iopub.status.busy": "2022-12-01T06:30:22.008838Z",
          "iopub.execute_input": "2022-12-01T06:30:22.009176Z",
          "iopub.status.idle": "2022-12-01T06:30:22.016076Z",
          "shell.execute_reply.started": "2022-12-01T06:30:22.009143Z",
          "shell.execute_reply": "2022-12-01T06:30:22.015088Z"
        },
        "trusted": true,
        "id": "KkCTZ3atcWne"
      },
      "execution_count": null,
      "outputs": []
    },
    {
      "cell_type": "code",
      "source": [
        "print(train.shape)\n",
        "print(validation.shape)\n",
        "print(test.shape)"
      ],
      "metadata": {
        "execution": {
          "iopub.status.busy": "2022-12-01T06:30:22.017825Z",
          "iopub.execute_input": "2022-12-01T06:30:22.018172Z",
          "iopub.status.idle": "2022-12-01T06:30:22.027465Z",
          "shell.execute_reply.started": "2022-12-01T06:30:22.018139Z",
          "shell.execute_reply": "2022-12-01T06:30:22.026502Z"
        },
        "trusted": true,
        "id": "Q53JMoGPcWnh",
        "outputId": "227768ac-d12a-447b-cb52-065e954467d7"
      },
      "execution_count": null,
      "outputs": [
        {
          "name": "stdout",
          "text": "(3128, 9)\n(783, 9)\n(3, 2)\n",
          "output_type": "stream"
        }
      ]
    },
    {
      "cell_type": "markdown",
      "source": [
        "# Make 5 Stratified Folds!"
      ],
      "metadata": {
        "id": "H1rzTxHKcWnn"
      }
    },
    {
      "cell_type": "code",
      "source": [
        "import sys\n",
        "sys.path.append('../input/iterativestratification')\n",
        "from iterstrat.ml_stratifiers import MultilabelStratifiedKFold\n",
        "FOLDS = 5 # CHANGED\n",
        "skf = MultilabelStratifiedKFold(n_splits=FOLDS, shuffle=True, random_state=42)\n",
        "for i,(train_index, val_index) in enumerate(skf.split(train,train[target_cols])):\n",
        "    train.loc[val_index,'FOLD'] = i\n",
        "print('Train samples per fold:')\n",
        "train.FOLD.value_counts()"
      ],
      "metadata": {
        "execution": {
          "iopub.status.busy": "2022-12-01T06:30:22.028679Z",
          "iopub.execute_input": "2022-12-01T06:30:22.028956Z",
          "iopub.status.idle": "2022-12-01T06:30:22.146427Z",
          "shell.execute_reply.started": "2022-12-01T06:30:22.028930Z",
          "shell.execute_reply": "2022-12-01T06:30:22.145421Z"
        },
        "trusted": true,
        "id": "ebWmDeAucWnq",
        "outputId": "e6ccdd03-0ec6-423a-9f9d-36b1e613462b"
      },
      "execution_count": null,
      "outputs": [
        {
          "name": "stdout",
          "text": "Train samples per fold:\n",
          "output_type": "stream"
        },
        {
          "execution_count": 32,
          "output_type": "execute_result",
          "data": {
            "text/plain": "4.0    626\n1.0    626\n2.0    626\n3.0    625\n0.0    625\nName: FOLD, dtype: int64"
          },
          "metadata": {}
        }
      ]
    },
    {
      "cell_type": "code",
      "source": [
        "train.head()"
      ],
      "metadata": {
        "execution": {
          "iopub.status.busy": "2022-12-01T06:30:22.148022Z",
          "iopub.execute_input": "2022-12-01T06:30:22.148717Z",
          "iopub.status.idle": "2022-12-01T06:30:22.168389Z",
          "shell.execute_reply.started": "2022-12-01T06:30:22.148680Z",
          "shell.execute_reply": "2022-12-01T06:30:22.167554Z"
        },
        "trusted": true,
        "id": "lHUFfiSAcWnu",
        "outputId": "c103aae4-7cdb-441a-d8c5-7cfea08b14d1"
      },
      "execution_count": null,
      "outputs": [
        {
          "execution_count": 33,
          "output_type": "execute_result",
          "data": {
            "text/plain": "   index       text_id                                          full_text  \\\n0   2084  9C7E82646A0F  I remember when I was having a difficult time ...   \n1   1594  7999A063F80E  I agree that praising a students work is an ou...   \n2   3469  ED57CFEC1CF1  I agree, because I think the influence helpen ...   \n3   2021  988BFF516FA0  We have many parks that provide a wide of vari...   \n4   3127  DCE82F61BE10  Is good idea for students to recive online cou...   \n\n   cohesion  syntax  vocabulary  phraseology  grammar  conventions  FOLD  \n0       2.0     3.0         3.0          3.0      3.0          3.0   3.0  \n1       3.5     3.5         3.0          3.5      3.5          3.5   4.0  \n2       2.5     2.0         2.5          2.0      2.0          2.0   1.0  \n3       2.5     2.5         3.0          3.0      2.5          3.0   3.0  \n4       3.0     3.5         3.5          3.5      3.0          3.0   1.0  ",
            "text/html": "<div>\n<style scoped>\n    .dataframe tbody tr th:only-of-type {\n        vertical-align: middle;\n    }\n\n    .dataframe tbody tr th {\n        vertical-align: top;\n    }\n\n    .dataframe thead th {\n        text-align: right;\n    }\n</style>\n<table border=\"1\" class=\"dataframe\">\n  <thead>\n    <tr style=\"text-align: right;\">\n      <th></th>\n      <th>index</th>\n      <th>text_id</th>\n      <th>full_text</th>\n      <th>cohesion</th>\n      <th>syntax</th>\n      <th>vocabulary</th>\n      <th>phraseology</th>\n      <th>grammar</th>\n      <th>conventions</th>\n      <th>FOLD</th>\n    </tr>\n  </thead>\n  <tbody>\n    <tr>\n      <th>0</th>\n      <td>2084</td>\n      <td>9C7E82646A0F</td>\n      <td>I remember when I was having a difficult time ...</td>\n      <td>2.0</td>\n      <td>3.0</td>\n      <td>3.0</td>\n      <td>3.0</td>\n      <td>3.0</td>\n      <td>3.0</td>\n      <td>3.0</td>\n    </tr>\n    <tr>\n      <th>1</th>\n      <td>1594</td>\n      <td>7999A063F80E</td>\n      <td>I agree that praising a students work is an ou...</td>\n      <td>3.5</td>\n      <td>3.5</td>\n      <td>3.0</td>\n      <td>3.5</td>\n      <td>3.5</td>\n      <td>3.5</td>\n      <td>4.0</td>\n    </tr>\n    <tr>\n      <th>2</th>\n      <td>3469</td>\n      <td>ED57CFEC1CF1</td>\n      <td>I agree, because I think the influence helpen ...</td>\n      <td>2.5</td>\n      <td>2.0</td>\n      <td>2.5</td>\n      <td>2.0</td>\n      <td>2.0</td>\n      <td>2.0</td>\n      <td>1.0</td>\n    </tr>\n    <tr>\n      <th>3</th>\n      <td>2021</td>\n      <td>988BFF516FA0</td>\n      <td>We have many parks that provide a wide of vari...</td>\n      <td>2.5</td>\n      <td>2.5</td>\n      <td>3.0</td>\n      <td>3.0</td>\n      <td>2.5</td>\n      <td>3.0</td>\n      <td>3.0</td>\n    </tr>\n    <tr>\n      <th>4</th>\n      <td>3127</td>\n      <td>DCE82F61BE10</td>\n      <td>Is good idea for students to recive online cou...</td>\n      <td>3.0</td>\n      <td>3.5</td>\n      <td>3.5</td>\n      <td>3.5</td>\n      <td>3.0</td>\n      <td>3.0</td>\n      <td>1.0</td>\n    </tr>\n  </tbody>\n</table>\n</div>"
          },
          "metadata": {}
        }
      ]
    },
    {
      "cell_type": "code",
      "source": [
        "# drop index columns\n",
        "train = train.drop(columns=[\"index\"])"
      ],
      "metadata": {
        "execution": {
          "iopub.status.busy": "2022-12-01T06:30:22.169347Z",
          "iopub.execute_input": "2022-12-01T06:30:22.169606Z",
          "iopub.status.idle": "2022-12-01T06:30:22.177751Z",
          "shell.execute_reply.started": "2022-12-01T06:30:22.169581Z",
          "shell.execute_reply": "2022-12-01T06:30:22.176204Z"
        },
        "trusted": true,
        "id": "rvHDb1wgcWnv"
      },
      "execution_count": null,
      "outputs": []
    },
    {
      "cell_type": "markdown",
      "source": [
        "# Generate Embeddings"
      ],
      "metadata": {
        "id": "w_WJFpaucWnx"
      }
    },
    {
      "cell_type": "code",
      "source": [
        "from transformers import AutoModel,AutoTokenizer\n",
        "import torch\n",
        "import torch.nn.functional as F\n",
        "from tqdm import tqdm"
      ],
      "metadata": {
        "execution": {
          "iopub.status.busy": "2022-12-01T06:30:22.179776Z",
          "iopub.execute_input": "2022-12-01T06:30:22.180141Z",
          "iopub.status.idle": "2022-12-01T06:30:22.188766Z",
          "shell.execute_reply.started": "2022-12-01T06:30:22.180109Z",
          "shell.execute_reply": "2022-12-01T06:30:22.187661Z"
        },
        "trusted": true,
        "id": "w-wUEUDqcWnz"
      },
      "execution_count": null,
      "outputs": []
    },
    {
      "cell_type": "code",
      "source": [
        "def mean_pooling(model_output, attention_mask):\n",
        "    token_embeddings = model_output.last_hidden_state.detach().cpu()\n",
        "    input_mask_expanded = (\n",
        "        attention_mask.unsqueeze(-1).expand(token_embeddings.size()).float()\n",
        "    )\n",
        "    return torch.sum(token_embeddings * input_mask_expanded, 1) / torch.clamp(\n",
        "        input_mask_expanded.sum(1), min=1e-9\n",
        "    )"
      ],
      "metadata": {
        "execution": {
          "iopub.status.busy": "2022-12-01T06:30:22.193763Z",
          "iopub.execute_input": "2022-12-01T06:30:22.194548Z",
          "iopub.status.idle": "2022-12-01T06:30:22.200620Z",
          "shell.execute_reply.started": "2022-12-01T06:30:22.194520Z",
          "shell.execute_reply": "2022-12-01T06:30:22.199362Z"
        },
        "trusted": true,
        "id": "L1jZT24ScWn3"
      },
      "execution_count": null,
      "outputs": []
    },
    {
      "cell_type": "code",
      "source": [
        "BATCH_SIZE = 4\n",
        "\n",
        "class EmbedDataset(torch.utils.data.Dataset):\n",
        "    def __init__(self,df):\n",
        "        self.df = df.reset_index(drop=True)\n",
        "    def __len__(self):\n",
        "        return len(self.df)\n",
        "    def __getitem__(self,idx):\n",
        "        text = self.df.loc[idx,\"full_text\"]\n",
        "        tokens = tokenizer(\n",
        "                text,\n",
        "                None,\n",
        "                add_special_tokens=True,\n",
        "                padding='max_length',\n",
        "                truncation=True,\n",
        "                max_length=MAX_LEN,return_tensors=\"pt\")\n",
        "        tokens = {k:v.squeeze(0) for k,v in tokens.items()}\n",
        "        return tokens\n",
        "\n",
        "ds_tr = EmbedDataset(train)\n",
        "embed_dataloader_tr = torch.utils.data.DataLoader(ds_tr,\\\n",
        "                        batch_size=BATCH_SIZE,\\\n",
        "                        shuffle=False)\n",
        "\n",
        "ds_va = EmbedDataset(validation)\n",
        "embed_dataloader_te = torch.utils.data.DataLoader(ds_va,\\\n",
        "                        batch_size=BATCH_SIZE,\\\n",
        "                        shuffle=False)\n",
        "\n",
        "ds_te = EmbedDataset(test)\n",
        "embed_dataloader_te_old = torch.utils.data.DataLoader(ds_te,\\\n",
        "                        batch_size=BATCH_SIZE,\\\n",
        "                        shuffle=False)"
      ],
      "metadata": {
        "execution": {
          "iopub.status.busy": "2022-12-01T06:30:22.202069Z",
          "iopub.execute_input": "2022-12-01T06:30:22.204101Z",
          "iopub.status.idle": "2022-12-01T06:30:22.214402Z",
          "shell.execute_reply.started": "2022-12-01T06:30:22.204066Z",
          "shell.execute_reply": "2022-12-01T06:30:22.213436Z"
        },
        "trusted": true,
        "id": "K7CrCPj2cWn4"
      },
      "execution_count": null,
      "outputs": []
    },
    {
      "cell_type": "code",
      "source": [
        "ds_tr.df.head()"
      ],
      "metadata": {
        "execution": {
          "iopub.status.busy": "2022-12-01T06:30:22.216203Z",
          "iopub.execute_input": "2022-12-01T06:30:22.217150Z",
          "iopub.status.idle": "2022-12-01T06:30:22.236172Z",
          "shell.execute_reply.started": "2022-12-01T06:30:22.217109Z",
          "shell.execute_reply": "2022-12-01T06:30:22.235189Z"
        },
        "trusted": true,
        "id": "DGpDb3U3cWn6",
        "outputId": "09a8f12f-3dff-4fb9-b20c-c82c94313b40"
      },
      "execution_count": null,
      "outputs": [
        {
          "execution_count": 38,
          "output_type": "execute_result",
          "data": {
            "text/plain": "        text_id                                          full_text  cohesion  \\\n0  9C7E82646A0F  I remember when I was having a difficult time ...       2.0   \n1  7999A063F80E  I agree that praising a students work is an ou...       3.5   \n2  ED57CFEC1CF1  I agree, because I think the influence helpen ...       2.5   \n3  988BFF516FA0  We have many parks that provide a wide of vari...       2.5   \n4  DCE82F61BE10  Is good idea for students to recive online cou...       3.0   \n\n   syntax  vocabulary  phraseology  grammar  conventions  FOLD  \n0     3.0         3.0          3.0      3.0          3.0   3.0  \n1     3.5         3.0          3.5      3.5          3.5   4.0  \n2     2.0         2.5          2.0      2.0          2.0   1.0  \n3     2.5         3.0          3.0      2.5          3.0   3.0  \n4     3.5         3.5          3.5      3.0          3.0   1.0  ",
            "text/html": "<div>\n<style scoped>\n    .dataframe tbody tr th:only-of-type {\n        vertical-align: middle;\n    }\n\n    .dataframe tbody tr th {\n        vertical-align: top;\n    }\n\n    .dataframe thead th {\n        text-align: right;\n    }\n</style>\n<table border=\"1\" class=\"dataframe\">\n  <thead>\n    <tr style=\"text-align: right;\">\n      <th></th>\n      <th>text_id</th>\n      <th>full_text</th>\n      <th>cohesion</th>\n      <th>syntax</th>\n      <th>vocabulary</th>\n      <th>phraseology</th>\n      <th>grammar</th>\n      <th>conventions</th>\n      <th>FOLD</th>\n    </tr>\n  </thead>\n  <tbody>\n    <tr>\n      <th>0</th>\n      <td>9C7E82646A0F</td>\n      <td>I remember when I was having a difficult time ...</td>\n      <td>2.0</td>\n      <td>3.0</td>\n      <td>3.0</td>\n      <td>3.0</td>\n      <td>3.0</td>\n      <td>3.0</td>\n      <td>3.0</td>\n    </tr>\n    <tr>\n      <th>1</th>\n      <td>7999A063F80E</td>\n      <td>I agree that praising a students work is an ou...</td>\n      <td>3.5</td>\n      <td>3.5</td>\n      <td>3.0</td>\n      <td>3.5</td>\n      <td>3.5</td>\n      <td>3.5</td>\n      <td>4.0</td>\n    </tr>\n    <tr>\n      <th>2</th>\n      <td>ED57CFEC1CF1</td>\n      <td>I agree, because I think the influence helpen ...</td>\n      <td>2.5</td>\n      <td>2.0</td>\n      <td>2.5</td>\n      <td>2.0</td>\n      <td>2.0</td>\n      <td>2.0</td>\n      <td>1.0</td>\n    </tr>\n    <tr>\n      <th>3</th>\n      <td>988BFF516FA0</td>\n      <td>We have many parks that provide a wide of vari...</td>\n      <td>2.5</td>\n      <td>2.5</td>\n      <td>3.0</td>\n      <td>3.0</td>\n      <td>2.5</td>\n      <td>3.0</td>\n      <td>3.0</td>\n    </tr>\n    <tr>\n      <th>4</th>\n      <td>DCE82F61BE10</td>\n      <td>Is good idea for students to recive online cou...</td>\n      <td>3.0</td>\n      <td>3.5</td>\n      <td>3.5</td>\n      <td>3.5</td>\n      <td>3.0</td>\n      <td>3.0</td>\n      <td>1.0</td>\n    </tr>\n  </tbody>\n</table>\n</div>"
          },
          "metadata": {}
        }
      ]
    },
    {
      "cell_type": "code",
      "source": [
        "ds_va.df.head()"
      ],
      "metadata": {
        "execution": {
          "iopub.status.busy": "2022-12-01T06:30:22.237645Z",
          "iopub.execute_input": "2022-12-01T06:30:22.238361Z",
          "iopub.status.idle": "2022-12-01T06:30:22.253845Z",
          "shell.execute_reply.started": "2022-12-01T06:30:22.238314Z",
          "shell.execute_reply": "2022-12-01T06:30:22.253020Z"
        },
        "trusted": true,
        "id": "ceDUeIKycWn-",
        "outputId": "b6412234-8e52-489e-82c4-02e499adeaef"
      },
      "execution_count": null,
      "outputs": [
        {
          "execution_count": 39,
          "output_type": "execute_result",
          "data": {
            "text/plain": "   index       text_id                                          full_text  \\\n0   2812  CD7201C66BBC  Students being able to graduate a year early f...   \n1    277  144671E445D0  A British naturalist and politician John Lubbo...   \n2   2138  9FDD8A146288  i think it not good for students because it di...   \n3   1714  81FB30DE2618  To Whom It May Concern, I heard that you are l...   \n4   3285  E429DAB69106  what would happen if older and younger student...   \n\n   cohesion  syntax  vocabulary  phraseology  grammar  conventions  \n0       4.0     4.5         5.0          5.0      4.5          4.5  \n1       2.5     3.0         3.0          2.0      2.5          2.5  \n2       3.0     2.5         2.5          2.5      2.5          2.5  \n3       2.5     2.5         3.0          3.0      3.0          3.0  \n4       4.0     3.5         3.5          3.5      3.0          3.0  ",
            "text/html": "<div>\n<style scoped>\n    .dataframe tbody tr th:only-of-type {\n        vertical-align: middle;\n    }\n\n    .dataframe tbody tr th {\n        vertical-align: top;\n    }\n\n    .dataframe thead th {\n        text-align: right;\n    }\n</style>\n<table border=\"1\" class=\"dataframe\">\n  <thead>\n    <tr style=\"text-align: right;\">\n      <th></th>\n      <th>index</th>\n      <th>text_id</th>\n      <th>full_text</th>\n      <th>cohesion</th>\n      <th>syntax</th>\n      <th>vocabulary</th>\n      <th>phraseology</th>\n      <th>grammar</th>\n      <th>conventions</th>\n    </tr>\n  </thead>\n  <tbody>\n    <tr>\n      <th>0</th>\n      <td>2812</td>\n      <td>CD7201C66BBC</td>\n      <td>Students being able to graduate a year early f...</td>\n      <td>4.0</td>\n      <td>4.5</td>\n      <td>5.0</td>\n      <td>5.0</td>\n      <td>4.5</td>\n      <td>4.5</td>\n    </tr>\n    <tr>\n      <th>1</th>\n      <td>277</td>\n      <td>144671E445D0</td>\n      <td>A British naturalist and politician John Lubbo...</td>\n      <td>2.5</td>\n      <td>3.0</td>\n      <td>3.0</td>\n      <td>2.0</td>\n      <td>2.5</td>\n      <td>2.5</td>\n    </tr>\n    <tr>\n      <th>2</th>\n      <td>2138</td>\n      <td>9FDD8A146288</td>\n      <td>i think it not good for students because it di...</td>\n      <td>3.0</td>\n      <td>2.5</td>\n      <td>2.5</td>\n      <td>2.5</td>\n      <td>2.5</td>\n      <td>2.5</td>\n    </tr>\n    <tr>\n      <th>3</th>\n      <td>1714</td>\n      <td>81FB30DE2618</td>\n      <td>To Whom It May Concern, I heard that you are l...</td>\n      <td>2.5</td>\n      <td>2.5</td>\n      <td>3.0</td>\n      <td>3.0</td>\n      <td>3.0</td>\n      <td>3.0</td>\n    </tr>\n    <tr>\n      <th>4</th>\n      <td>3285</td>\n      <td>E429DAB69106</td>\n      <td>what would happen if older and younger student...</td>\n      <td>4.0</td>\n      <td>3.5</td>\n      <td>3.5</td>\n      <td>3.5</td>\n      <td>3.0</td>\n      <td>3.0</td>\n    </tr>\n  </tbody>\n</table>\n</div>"
          },
          "metadata": {}
        }
      ]
    },
    {
      "cell_type": "markdown",
      "source": [
        "# Extract Embeddings"
      ],
      "metadata": {
        "id": "fpIblaQScWoA"
      }
    },
    {
      "cell_type": "code",
      "source": [
        "tokenizer = None\n",
        "MAX_LEN = 640\n",
        "\n",
        "def get_embeddings(MODEL_NM='', MAX=640, BATCH_SIZE=4, verbose=True):\n",
        "    global tokenizer, MAX_LEN\n",
        "    DEVICE=\"cuda\"\n",
        "    model = AutoModel.from_pretrained( MODEL_NM )\n",
        "    tokenizer = AutoTokenizer.from_pretrained( MODEL_NM )\n",
        "    MAX_LEN = MAX\n",
        "    \n",
        "    model = model.to(DEVICE)\n",
        "    model.eval()\n",
        "    all_train_text_feats = []\n",
        "    for batch in tqdm(embed_dataloader_tr,total=len(embed_dataloader_tr)):\n",
        "        input_ids = batch[\"input_ids\"].to(DEVICE)\n",
        "        attention_mask = batch[\"attention_mask\"].to(DEVICE)\n",
        "        with torch.no_grad():\n",
        "            model_output = model(input_ids=input_ids,attention_mask=attention_mask)\n",
        "        sentence_embeddings = mean_pooling(model_output, attention_mask.detach().cpu())\n",
        "        # Normalize the embeddings\n",
        "        sentence_embeddings = F.normalize(sentence_embeddings, p=2, dim=1)\n",
        "        sentence_embeddings =  sentence_embeddings.squeeze(0).detach().cpu().numpy()\n",
        "        all_train_text_feats.extend(sentence_embeddings)\n",
        "    all_train_text_feats = np.array(all_train_text_feats)\n",
        "    if verbose:\n",
        "        print('Train embeddings shape',all_train_text_feats.shape)\n",
        "        \n",
        "    te_text_feats = []\n",
        "    for batch in tqdm(embed_dataloader_te,total=len(embed_dataloader_te)):\n",
        "        input_ids = batch[\"input_ids\"].to(DEVICE)\n",
        "        attention_mask = batch[\"attention_mask\"].to(DEVICE)\n",
        "        with torch.no_grad():\n",
        "            model_output = model(input_ids=input_ids,attention_mask=attention_mask)\n",
        "        sentence_embeddings = mean_pooling(model_output, attention_mask.detach().cpu())\n",
        "        # Normalize the embeddings\n",
        "        sentence_embeddings = F.normalize(sentence_embeddings, p=2, dim=1)\n",
        "        sentence_embeddings =  sentence_embeddings.squeeze(0).detach().cpu().numpy()\n",
        "        te_text_feats.extend(sentence_embeddings)\n",
        "    te_text_feats = np.array(te_text_feats)\n",
        "    if verbose:\n",
        "        print('Test embeddings shape',te_text_feats.shape)\n",
        "        \n",
        "    return all_train_text_feats, te_text_feats"
      ],
      "metadata": {
        "execution": {
          "iopub.status.busy": "2022-12-01T06:30:22.255185Z",
          "iopub.execute_input": "2022-12-01T06:30:22.255841Z",
          "iopub.status.idle": "2022-12-01T06:30:22.274529Z",
          "shell.execute_reply.started": "2022-12-01T06:30:22.255805Z",
          "shell.execute_reply": "2022-12-01T06:30:22.273587Z"
        },
        "trusted": true,
        "id": "8jIeTY4ocWoC"
      },
      "execution_count": null,
      "outputs": []
    },
    {
      "cell_type": "markdown",
      "source": [
        "# Get Base Embeddings"
      ],
      "metadata": {
        "id": "OJyPECJrcWoH"
      }
    },
    {
      "cell_type": "code",
      "source": [
        "MODEL_NM = '../input/huggingface-deberta-variants/deberta-large/deberta-large'\n",
        "all_train_text_feats, te_text_feats = get_embeddings(MODEL_NM)"
      ],
      "metadata": {
        "execution": {
          "iopub.status.busy": "2022-12-01T06:30:22.275938Z",
          "iopub.execute_input": "2022-12-01T06:30:22.276536Z",
          "iopub.status.idle": "2022-12-01T06:38:44.401373Z",
          "shell.execute_reply.started": "2022-12-01T06:30:22.276501Z",
          "shell.execute_reply": "2022-12-01T06:38:44.400045Z"
        },
        "trusted": true,
        "id": "Izs2wSsFcWoJ",
        "outputId": "27f9c7d8-5bec-44ba-8ab2-1adaaa5d9fe8"
      },
      "execution_count": null,
      "outputs": [
        {
          "name": "stderr",
          "text": "Some weights of the model checkpoint at ../input/huggingface-deberta-variants/deberta-large/deberta-large were not used when initializing DebertaModel: ['lm_predictions.lm_head.bias', 'lm_predictions.lm_head.LayerNorm.weight', 'lm_predictions.lm_head.dense.bias', 'lm_predictions.lm_head.dense.weight', 'lm_predictions.lm_head.LayerNorm.bias', 'config']\n- This IS expected if you are initializing DebertaModel from the checkpoint of a model trained on another task or with another architecture (e.g. initializing a BertForSequenceClassification model from a BertForPreTraining model).\n- This IS NOT expected if you are initializing DebertaModel from the checkpoint of a model that you expect to be exactly identical (initializing a BertForSequenceClassification model from a BertForSequenceClassification model).\n100%|██████████| 782/782 [06:25<00:00,  2.03it/s]\n",
          "output_type": "stream"
        },
        {
          "name": "stdout",
          "text": "Train embeddings shape (3128, 1024)\n",
          "output_type": "stream"
        },
        {
          "name": "stderr",
          "text": "100%|██████████| 196/196 [01:36<00:00,  2.03it/s]",
          "output_type": "stream"
        },
        {
          "name": "stdout",
          "text": "Test embeddings shape (783, 1024)\n",
          "output_type": "stream"
        },
        {
          "name": "stderr",
          "text": "\n",
          "output_type": "stream"
        }
      ]
    },
    {
      "cell_type": "code",
      "source": [
        "#import pickle\n",
        "\n",
        "#all_train_text_feats = []\n",
        "#te_text_feats = []\n",
        "#with open('../input/deberta-pickle-v2/dataset_dict_v2.pickle', 'rb') as pickleFile:\n",
        "    #x = pickle.load(pickleFile)\n",
        "    #all_train_text_feats = np.array(x['X_train'])\n",
        "    #te_text_feats = np.array(x['X_test'])"
      ],
      "metadata": {
        "execution": {
          "iopub.status.busy": "2022-12-01T06:38:44.403441Z",
          "iopub.execute_input": "2022-12-01T06:38:44.404188Z",
          "iopub.status.idle": "2022-12-01T06:38:44.409674Z",
          "shell.execute_reply.started": "2022-12-01T06:38:44.404146Z",
          "shell.execute_reply": "2022-12-01T06:38:44.408548Z"
        },
        "trusted": true,
        "id": "LZajAI1kcWoL"
      },
      "execution_count": null,
      "outputs": []
    },
    {
      "cell_type": "code",
      "source": [
        "all_train_text_feats.shape"
      ],
      "metadata": {
        "execution": {
          "iopub.status.busy": "2022-12-01T06:38:44.411068Z",
          "iopub.execute_input": "2022-12-01T06:38:44.412143Z",
          "iopub.status.idle": "2022-12-01T06:38:44.424977Z",
          "shell.execute_reply.started": "2022-12-01T06:38:44.412107Z",
          "shell.execute_reply": "2022-12-01T06:38:44.424082Z"
        },
        "trusted": true,
        "id": "Yt7R0300cWoN",
        "outputId": "0c53ae66-6d14-462a-f95a-c2927d5fae92"
      },
      "execution_count": null,
      "outputs": [
        {
          "execution_count": 43,
          "output_type": "execute_result",
          "data": {
            "text/plain": "(3128, 1024)"
          },
          "metadata": {}
        }
      ]
    },
    {
      "cell_type": "code",
      "source": [
        "te_text_feats.shape"
      ],
      "metadata": {
        "execution": {
          "iopub.status.busy": "2022-12-01T06:38:44.427532Z",
          "iopub.execute_input": "2022-12-01T06:38:44.428397Z",
          "iopub.status.idle": "2022-12-01T06:38:44.436249Z",
          "shell.execute_reply.started": "2022-12-01T06:38:44.428360Z",
          "shell.execute_reply": "2022-12-01T06:38:44.435152Z"
        },
        "trusted": true,
        "id": "JXNp1OjCcWoO",
        "outputId": "db97857f-d891-4587-dcc3-b4cc1d706e23"
      },
      "execution_count": null,
      "outputs": [
        {
          "execution_count": 44,
          "output_type": "execute_result",
          "data": {
            "text/plain": "(783, 1024)"
          },
          "metadata": {}
        }
      ]
    },
    {
      "cell_type": "markdown",
      "source": [
        "# Train RAPIDS cuML SVR\n",
        "Documentation for RAPIDS SVM is [here][1]\n",
        "\n",
        "[1]: https://docs.rapids.ai/api/cuml/stable/api.html#support-vector-machines"
      ],
      "metadata": {
        "id": "oxUKNfq5cWoR"
      }
    },
    {
      "cell_type": "code",
      "source": [
        "#!pip3 install cuml\n",
        "import cuml\n",
        "from cuml.svm import SVR\n",
        "print('RAPIDS version',cuml.__version__)"
      ],
      "metadata": {
        "execution": {
          "iopub.status.busy": "2022-12-01T06:38:44.437770Z",
          "iopub.execute_input": "2022-12-01T06:38:44.438268Z",
          "iopub.status.idle": "2022-12-01T06:38:44.445198Z",
          "shell.execute_reply.started": "2022-12-01T06:38:44.438235Z",
          "shell.execute_reply": "2022-12-01T06:38:44.444099Z"
        },
        "trusted": true,
        "id": "wcj5CqQKcWoT",
        "outputId": "b6092cb5-8754-4dd5-d6ed-d0ac170b6e16"
      },
      "execution_count": null,
      "outputs": [
        {
          "name": "stdout",
          "text": "RAPIDS version 21.10.02\n",
          "output_type": "stream"
        }
      ]
    },
    {
      "cell_type": "code",
      "source": [
        "from sklearn.metrics import mean_squared_error\n",
        "\n",
        "preds = []\n",
        "scores = []\n",
        "def comp_score(y_true,y_pred):\n",
        "    rmse_scores = []\n",
        "    for i in range(len(target_cols)):\n",
        "        rmse_scores.append(np.sqrt(mean_squared_error(y_true[:,i],y_pred[:,i])))\n",
        "    return np.mean(rmse_scores)\n",
        "\n",
        "#for fold in tqdm(range(FOLDS),total=FOLDS):\n",
        "for fold in range(FOLDS):\n",
        "    print('#'*5)\n",
        "    print('### Fold',fold+1)\n",
        "    print('#'*5)\n",
        "    \n",
        "    train_ = train[train[\"FOLD\"]!=fold]\n",
        "    dev_ = train[train[\"FOLD\"]==fold]\n",
        "    \n",
        "    tr_text_feats = all_train_text_feats[list(train_.index),:]\n",
        "    ev_text_feats = all_train_text_feats[list(dev_.index),:]\n",
        "    \n",
        "    ev_preds = np.zeros((len(ev_text_feats),6))\n",
        "    test_preds = np.zeros((len(te_text_feats),6))\n",
        "    for i,t in enumerate(target_cols):\n",
        "        print(t,', ',end='')\n",
        "        clf = SVR(C=1)\n",
        "        clf.fit(tr_text_feats, train_[t].values)\n",
        "        ev_preds[:,i] = clf.predict(ev_text_feats)\n",
        "        test_preds[:,i] = clf.predict(te_text_feats)\n",
        "    score = comp_score(dev_[target_cols].values,ev_preds)\n",
        "    scores.append(score)\n",
        "    print(\"Fold : {} RSME score: {}\".format(fold,score))\n",
        "    preds.append(test_preds)\n",
        "    \n",
        "print('#'*5)\n",
        "print('Overall CV RSME =',np.mean(scores))"
      ],
      "metadata": {
        "execution": {
          "iopub.status.busy": "2022-12-01T06:38:44.446582Z",
          "iopub.execute_input": "2022-12-01T06:38:44.447320Z",
          "iopub.status.idle": "2022-12-01T06:38:47.059767Z",
          "shell.execute_reply.started": "2022-12-01T06:38:44.447286Z",
          "shell.execute_reply": "2022-12-01T06:38:47.058692Z"
        },
        "trusted": true,
        "id": "10fkqVQ3cWoW",
        "outputId": "f8604910-0031-4072-c3fa-743f2a154811"
      },
      "execution_count": null,
      "outputs": [
        {
          "name": "stdout",
          "text": "#####\n### Fold 1\n#####\ncohesion , syntax , vocabulary , phraseology , grammar , conventions , Fold : 0 RSME score: 0.45890545346957384\n#####\n### Fold 2\n#####\ncohesion , syntax , vocabulary , phraseology , grammar , conventions , Fold : 1 RSME score: 0.4616110043568627\n#####\n### Fold 3\n#####\ncohesion , syntax , vocabulary , phraseology , grammar , conventions , Fold : 2 RSME score: 0.45542986676007735\n#####\n### Fold 4\n#####\ncohesion , syntax , vocabulary , phraseology , grammar , conventions , Fold : 3 RSME score: 0.4578918158315441\n#####\n### Fold 5\n#####\ncohesion , syntax , vocabulary , phraseology , grammar , conventions , Fold : 4 RSME score: 0.47466910281366737\n#####\nOverall CV RSME = 0.4617014486463451\n",
          "output_type": "stream"
        }
      ]
    },
    {
      "cell_type": "code",
      "source": [
        "# predict on test data\n",
        "preds = np.zeros((len(te_text_feats),6))\n",
        "for i,t in enumerate(target_cols):\n",
        "    clf = SVR(C=1)\n",
        "    clf.fit(all_train_text_feats, train_labels[t])\n",
        "    print(\"Predicting on validation set for \" + str(t))\n",
        "    preds[:, i] = clf.predict(te_text_feats)"
      ],
      "metadata": {
        "execution": {
          "iopub.status.busy": "2022-12-01T06:38:47.061149Z",
          "iopub.execute_input": "2022-12-01T06:38:47.061616Z",
          "iopub.status.idle": "2022-12-01T06:38:47.602442Z",
          "shell.execute_reply.started": "2022-12-01T06:38:47.061578Z",
          "shell.execute_reply": "2022-12-01T06:38:47.601342Z"
        },
        "trusted": true,
        "id": "epTnYsZwcWoY",
        "outputId": "c0822eb2-fa7f-48df-8a83-957fc91bbdd8"
      },
      "execution_count": null,
      "outputs": [
        {
          "name": "stdout",
          "text": "Predicting on validation set for cohesion\nPredicting on validation set for syntax\nPredicting on validation set for vocabulary\nPredicting on validation set for phraseology\nPredicting on validation set for grammar\nPredicting on validation set for conventions\n",
          "output_type": "stream"
        }
      ]
    },
    {
      "cell_type": "code",
      "source": [
        "score = comp_score(validation_labels.values, preds)"
      ],
      "metadata": {
        "execution": {
          "iopub.status.busy": "2022-12-01T06:39:49.920931Z",
          "iopub.execute_input": "2022-12-01T06:39:49.921297Z",
          "iopub.status.idle": "2022-12-01T06:39:49.930034Z",
          "shell.execute_reply.started": "2022-12-01T06:39:49.921264Z",
          "shell.execute_reply": "2022-12-01T06:39:49.928675Z"
        },
        "trusted": true,
        "id": "MbNmeO-XcWoZ"
      },
      "execution_count": null,
      "outputs": []
    },
    {
      "cell_type": "markdown",
      "source": [
        "# Overall CV Score 0.4882"
      ],
      "metadata": {
        "id": "WC32xX89cWoa"
      }
    },
    {
      "cell_type": "markdown",
      "source": [
        "# Create Submission CSV"
      ],
      "metadata": {
        "id": "qeQp6T3McWoa"
      }
    },
    {
      "cell_type": "code",
      "source": [
        "sub = test.copy()\n",
        "\n",
        "sub.loc[:,target_cols] = np.average(np.array(preds),axis=0) #,weights=[1/s for s in scores]\n",
        "sub_columns = pd.read_csv(\"../input/feedback-prize-english-language-learning/sample_submission.csv\").columns\n",
        "sub = sub[sub_columns]"
      ],
      "metadata": {
        "execution": {
          "iopub.status.busy": "2022-12-01T06:38:47.614780Z",
          "iopub.execute_input": "2022-12-01T06:38:47.615693Z",
          "iopub.status.idle": "2022-12-01T06:38:47.631364Z",
          "shell.execute_reply.started": "2022-12-01T06:38:47.615657Z",
          "shell.execute_reply": "2022-12-01T06:38:47.630300Z"
        },
        "trusted": true,
        "id": "WCXRMO_QcWob"
      },
      "execution_count": null,
      "outputs": []
    },
    {
      "cell_type": "code",
      "source": [
        "sub.to_csv(\"submission.csv\",index=None)\n",
        "sub.head()"
      ],
      "metadata": {
        "execution": {
          "iopub.status.busy": "2022-12-01T06:38:47.632749Z",
          "iopub.execute_input": "2022-12-01T06:38:47.633185Z",
          "iopub.status.idle": "2022-12-01T06:38:47.649790Z",
          "shell.execute_reply.started": "2022-12-01T06:38:47.633148Z",
          "shell.execute_reply": "2022-12-01T06:38:47.648602Z"
        },
        "trusted": true,
        "id": "5k_VUVkHcWob",
        "outputId": "6b9b8338-3583-4e6c-836d-f1375207a406"
      },
      "execution_count": null,
      "outputs": [
        {
          "execution_count": 50,
          "output_type": "execute_result",
          "data": {
            "text/plain": "        text_id  cohesion    syntax  vocabulary  phraseology   grammar  \\\n0  0000C359D63E  3.129556  3.025909    3.237558     3.119506  3.026942   \n1  000BAD50D026  3.129556  3.025909    3.237558     3.119506  3.026942   \n2  00367BB2546B  3.129556  3.025909    3.237558     3.119506  3.026942   \n\n   conventions  \n0     3.072633  \n1     3.072633  \n2     3.072633  ",
            "text/html": "<div>\n<style scoped>\n    .dataframe tbody tr th:only-of-type {\n        vertical-align: middle;\n    }\n\n    .dataframe tbody tr th {\n        vertical-align: top;\n    }\n\n    .dataframe thead th {\n        text-align: right;\n    }\n</style>\n<table border=\"1\" class=\"dataframe\">\n  <thead>\n    <tr style=\"text-align: right;\">\n      <th></th>\n      <th>text_id</th>\n      <th>cohesion</th>\n      <th>syntax</th>\n      <th>vocabulary</th>\n      <th>phraseology</th>\n      <th>grammar</th>\n      <th>conventions</th>\n    </tr>\n  </thead>\n  <tbody>\n    <tr>\n      <th>0</th>\n      <td>0000C359D63E</td>\n      <td>3.129556</td>\n      <td>3.025909</td>\n      <td>3.237558</td>\n      <td>3.119506</td>\n      <td>3.026942</td>\n      <td>3.072633</td>\n    </tr>\n    <tr>\n      <th>1</th>\n      <td>000BAD50D026</td>\n      <td>3.129556</td>\n      <td>3.025909</td>\n      <td>3.237558</td>\n      <td>3.119506</td>\n      <td>3.026942</td>\n      <td>3.072633</td>\n    </tr>\n    <tr>\n      <th>2</th>\n      <td>00367BB2546B</td>\n      <td>3.129556</td>\n      <td>3.025909</td>\n      <td>3.237558</td>\n      <td>3.119506</td>\n      <td>3.026942</td>\n      <td>3.072633</td>\n    </tr>\n  </tbody>\n</table>\n</div>"
          },
          "metadata": {}
        }
      ]
    }
  ]
}